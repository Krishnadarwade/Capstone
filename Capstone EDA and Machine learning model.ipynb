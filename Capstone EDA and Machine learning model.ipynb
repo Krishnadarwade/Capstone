{
 "cells": [
  {
   "cell_type": "code",
   "execution_count": 1,
   "id": "d1eaf680",
   "metadata": {},
   "outputs": [],
   "source": [
    "import pandas as pd\n",
    "import seaborn as sns\n",
    "import warnings\n",
    "warnings.filterwarnings('ignore')\n",
    "import matplotlib.pyplot as plt\n",
    "import numpy as np\n",
    "from scipy.stats import zscore"
   ]
  },
  {
   "cell_type": "code",
   "execution_count": 2,
   "id": "ae62533f",
   "metadata": {},
   "outputs": [],
   "source": [
    "df3=pd.read_csv(\"Table1.csv\")"
   ]
  },
  {
   "cell_type": "code",
   "execution_count": 3,
   "id": "22e515f5",
   "metadata": {},
   "outputs": [],
   "source": [
    "df1=pd.read_csv(\"Table2.csv\")"
   ]
  },
  {
   "cell_type": "code",
   "execution_count": 4,
   "id": "d1ef3ec2",
   "metadata": {},
   "outputs": [],
   "source": [
    "df2=pd.read_csv(\"Table3.csv\")"
   ]
  },
  {
   "cell_type": "code",
   "execution_count": 5,
   "id": "af0107cc",
   "metadata": {},
   "outputs": [],
   "source": [
    "df = df3.join(df1, how='outer').join(df2, how='outer')"
   ]
  },
  {
   "cell_type": "code",
   "execution_count": 6,
   "id": "de6a9700",
   "metadata": {},
   "outputs": [
    {
     "data": {
      "text/html": [
       "<div>\n",
       "<style scoped>\n",
       "    .dataframe tbody tr th:only-of-type {\n",
       "        vertical-align: middle;\n",
       "    }\n",
       "\n",
       "    .dataframe tbody tr th {\n",
       "        vertical-align: top;\n",
       "    }\n",
       "\n",
       "    .dataframe thead th {\n",
       "        text-align: right;\n",
       "    }\n",
       "</style>\n",
       "<table border=\"1\" class=\"dataframe\">\n",
       "  <thead>\n",
       "    <tr style=\"text-align: right;\">\n",
       "      <th></th>\n",
       "      <th>shoe_name</th>\n",
       "      <th>No_of_colour</th>\n",
       "      <th>catagory</th>\n",
       "      <th>prices</th>\n",
       "      <th>count_of_size</th>\n",
       "      <th>colours</th>\n",
       "      <th>style_code</th>\n",
       "      <th>reviews</th>\n",
       "      <th>features</th>\n",
       "      <th>ratings</th>\n",
       "    </tr>\n",
       "  </thead>\n",
       "  <tbody>\n",
       "    <tr>\n",
       "      <th>0</th>\n",
       "      <td>Women's Firecamp™ Boot</td>\n",
       "      <td>4 Colors</td>\n",
       "      <td>Unisex</td>\n",
       "      <td>$100.00</td>\n",
       "      <td>5.0</td>\n",
       "      <td>Gold</td>\n",
       "      <td>L88MPKU</td>\n",
       "      <td>1.0</td>\n",
       "      <td>low-top</td>\n",
       "      <td>4.497</td>\n",
       "    </tr>\n",
       "    <tr>\n",
       "      <th>1</th>\n",
       "      <td>Women’s Minx™ Shorty III Boot</td>\n",
       "      <td>2 Colors</td>\n",
       "      <td>Unisex</td>\n",
       "      <td>$90.00</td>\n",
       "      <td>4.0</td>\n",
       "      <td>Black</td>\n",
       "      <td>E3KX07Y</td>\n",
       "      <td>67.0</td>\n",
       "      <td>comfortable</td>\n",
       "      <td>4.477</td>\n",
       "    </tr>\n",
       "    <tr>\n",
       "      <th>2</th>\n",
       "      <td>Men's Gunnison™ II Omni-Heat™ Boot</td>\n",
       "      <td>2 Colors</td>\n",
       "      <td>Unisex</td>\n",
       "      <td>$90.00</td>\n",
       "      <td>3.0</td>\n",
       "      <td>Silver</td>\n",
       "      <td>BZH4I9C</td>\n",
       "      <td>1.0</td>\n",
       "      <td>sneaker</td>\n",
       "      <td>4.399</td>\n",
       "    </tr>\n",
       "    <tr>\n",
       "      <th>3</th>\n",
       "      <td>Men's Firecamp™ Fleece Lined Shoe</td>\n",
       "      <td>3 Colors</td>\n",
       "      <td>Women</td>\n",
       "      <td>$100.00</td>\n",
       "      <td>4.0</td>\n",
       "      <td>WhiteAlpine</td>\n",
       "      <td>0VQJUQJ</td>\n",
       "      <td>67.0</td>\n",
       "      <td>flat</td>\n",
       "      <td>4.334</td>\n",
       "    </tr>\n",
       "    <tr>\n",
       "      <th>4</th>\n",
       "      <td>Women's Firecamp™ Fleece Lined Shoe</td>\n",
       "      <td>3 Colors</td>\n",
       "      <td>Women</td>\n",
       "      <td>$100.00</td>\n",
       "      <td>3.0</td>\n",
       "      <td>Pink</td>\n",
       "      <td>6MJDHVF</td>\n",
       "      <td>59.0</td>\n",
       "      <td>mesh</td>\n",
       "      <td>4.652</td>\n",
       "    </tr>\n",
       "    <tr>\n",
       "      <th>...</th>\n",
       "      <td>...</td>\n",
       "      <td>...</td>\n",
       "      <td>...</td>\n",
       "      <td>...</td>\n",
       "      <td>...</td>\n",
       "      <td>...</td>\n",
       "      <td>...</td>\n",
       "      <td>...</td>\n",
       "      <td>...</td>\n",
       "      <td>...</td>\n",
       "    </tr>\n",
       "    <tr>\n",
       "      <th>623</th>\n",
       "      <td>NaN</td>\n",
       "      <td>NaN</td>\n",
       "      <td>NaN</td>\n",
       "      <td>NaN</td>\n",
       "      <td>NaN</td>\n",
       "      <td>NaN</td>\n",
       "      <td>NaN</td>\n",
       "      <td>NaN</td>\n",
       "      <td>slip-on</td>\n",
       "      <td>NaN</td>\n",
       "    </tr>\n",
       "    <tr>\n",
       "      <th>624</th>\n",
       "      <td>NaN</td>\n",
       "      <td>NaN</td>\n",
       "      <td>NaN</td>\n",
       "      <td>NaN</td>\n",
       "      <td>NaN</td>\n",
       "      <td>NaN</td>\n",
       "      <td>NaN</td>\n",
       "      <td>NaN</td>\n",
       "      <td>lace-up</td>\n",
       "      <td>NaN</td>\n",
       "    </tr>\n",
       "    <tr>\n",
       "      <th>625</th>\n",
       "      <td>NaN</td>\n",
       "      <td>NaN</td>\n",
       "      <td>NaN</td>\n",
       "      <td>NaN</td>\n",
       "      <td>NaN</td>\n",
       "      <td>NaN</td>\n",
       "      <td>NaN</td>\n",
       "      <td>NaN</td>\n",
       "      <td>canvas</td>\n",
       "      <td>NaN</td>\n",
       "    </tr>\n",
       "    <tr>\n",
       "      <th>626</th>\n",
       "      <td>NaN</td>\n",
       "      <td>NaN</td>\n",
       "      <td>NaN</td>\n",
       "      <td>NaN</td>\n",
       "      <td>NaN</td>\n",
       "      <td>NaN</td>\n",
       "      <td>NaN</td>\n",
       "      <td>NaN</td>\n",
       "      <td>lace-up</td>\n",
       "      <td>NaN</td>\n",
       "    </tr>\n",
       "    <tr>\n",
       "      <th>627</th>\n",
       "      <td>NaN</td>\n",
       "      <td>NaN</td>\n",
       "      <td>NaN</td>\n",
       "      <td>NaN</td>\n",
       "      <td>NaN</td>\n",
       "      <td>NaN</td>\n",
       "      <td>NaN</td>\n",
       "      <td>NaN</td>\n",
       "      <td>suede</td>\n",
       "      <td>NaN</td>\n",
       "    </tr>\n",
       "  </tbody>\n",
       "</table>\n",
       "<p>628 rows × 10 columns</p>\n",
       "</div>"
      ],
      "text/plain": [
       "                               shoe_name No_of_colour catagory   prices  \\\n",
       "0                 Women's Firecamp™ Boot     4 Colors   Unisex  $100.00   \n",
       "1          Women’s Minx™ Shorty III Boot     2 Colors   Unisex   $90.00   \n",
       "2     Men's Gunnison™ II Omni-Heat™ Boot     2 Colors   Unisex   $90.00   \n",
       "3      Men's Firecamp™ Fleece Lined Shoe     3 Colors    Women  $100.00   \n",
       "4    Women's Firecamp™ Fleece Lined Shoe     3 Colors    Women  $100.00   \n",
       "..                                   ...          ...      ...      ...   \n",
       "623                                  NaN          NaN      NaN      NaN   \n",
       "624                                  NaN          NaN      NaN      NaN   \n",
       "625                                  NaN          NaN      NaN      NaN   \n",
       "626                                  NaN          NaN      NaN      NaN   \n",
       "627                                  NaN          NaN      NaN      NaN   \n",
       "\n",
       "     count_of_size      colours style_code  reviews     features  ratings  \n",
       "0              5.0         Gold    L88MPKU      1.0      low-top    4.497  \n",
       "1              4.0        Black    E3KX07Y     67.0  comfortable    4.477  \n",
       "2              3.0       Silver    BZH4I9C      1.0      sneaker    4.399  \n",
       "3              4.0  WhiteAlpine    0VQJUQJ     67.0         flat    4.334  \n",
       "4              3.0         Pink    6MJDHVF     59.0         mesh    4.652  \n",
       "..             ...          ...        ...      ...          ...      ...  \n",
       "623            NaN          NaN        NaN      NaN      slip-on      NaN  \n",
       "624            NaN          NaN        NaN      NaN      lace-up      NaN  \n",
       "625            NaN          NaN        NaN      NaN       canvas      NaN  \n",
       "626            NaN          NaN        NaN      NaN      lace-up      NaN  \n",
       "627            NaN          NaN        NaN      NaN        suede      NaN  \n",
       "\n",
       "[628 rows x 10 columns]"
      ]
     },
     "execution_count": 6,
     "metadata": {},
     "output_type": "execute_result"
    }
   ],
   "source": [
    "df"
   ]
  },
  {
   "cell_type": "markdown",
   "id": "66ede053",
   "metadata": {},
   "source": [
    "Here is our new Dartaframe having 628 rows and 10 columns in it, let us know about our data before proceeding further EDA"
   ]
  },
  {
   "cell_type": "markdown",
   "id": "ff3fb977",
   "metadata": {},
   "source": [
    "So the Data is having information about shoes collected from different website:\n",
    "    \n",
    "1. It's first column defines shoe name from different brands.\n",
    "\n",
    "2. Second column is having colour available fro particular shoes, it's the number of colour.\n",
    "\n",
    "3. Our third column is defining either shoe is for Men, Women or it's a Unisex which both can wear.\n",
    "\n",
    "4. Fourth column is having price of a particular shoes.\n",
    "\n",
    "5. Fifth column shows that how many sizes are available for particular shoe.\n",
    "\n",
    "6. Our Sixth column is having colour available for the shoe now.\n",
    "\n",
    "7. And the 7th column is having a particular style code for the shoe.\n",
    "\n",
    "8. Our eighth column is having  number of review done by customer on that particular shoe.\n",
    "\n",
    "9. Our ninth column is having cetain features of a shoe, which can affect it's prices.\n",
    "\n",
    "10. Our tenth and last column is having star ratings of a particular shoes out of 5 \n",
    "\n",
    "Other points to be remebered- \n",
    "\n",
    "Along with this we can also see that in the last of our dataframe we are having multiple null values and we have to treat them for better analysis and better model building which we'll do further."
   ]
  },
  {
   "cell_type": "code",
   "execution_count": 16,
   "id": "b433adf8",
   "metadata": {},
   "outputs": [
    {
     "data": {
      "text/html": [
       "<div>\n",
       "<style scoped>\n",
       "    .dataframe tbody tr th:only-of-type {\n",
       "        vertical-align: middle;\n",
       "    }\n",
       "\n",
       "    .dataframe tbody tr th {\n",
       "        vertical-align: top;\n",
       "    }\n",
       "\n",
       "    .dataframe thead th {\n",
       "        text-align: right;\n",
       "    }\n",
       "</style>\n",
       "<table border=\"1\" class=\"dataframe\">\n",
       "  <thead>\n",
       "    <tr style=\"text-align: right;\">\n",
       "      <th></th>\n",
       "      <th>shoe_name</th>\n",
       "      <th>No_of_colour</th>\n",
       "      <th>catagory</th>\n",
       "      <th>prices</th>\n",
       "      <th>count_of_size</th>\n",
       "      <th>colours</th>\n",
       "      <th>style_code</th>\n",
       "      <th>reviews</th>\n",
       "      <th>features</th>\n",
       "      <th>ratings</th>\n",
       "    </tr>\n",
       "  </thead>\n",
       "  <tbody>\n",
       "    <tr>\n",
       "      <th>0</th>\n",
       "      <td>Women's Firecamp™ Boot</td>\n",
       "      <td>4 Colors</td>\n",
       "      <td>Unisex</td>\n",
       "      <td>$100.00</td>\n",
       "      <td>5.0</td>\n",
       "      <td>Gold</td>\n",
       "      <td>L88MPKU</td>\n",
       "      <td>1.0</td>\n",
       "      <td>low-top</td>\n",
       "      <td>4.497</td>\n",
       "    </tr>\n",
       "    <tr>\n",
       "      <th>1</th>\n",
       "      <td>Women’s Minx™ Shorty III Boot</td>\n",
       "      <td>2 Colors</td>\n",
       "      <td>Unisex</td>\n",
       "      <td>$90.00</td>\n",
       "      <td>4.0</td>\n",
       "      <td>Black</td>\n",
       "      <td>E3KX07Y</td>\n",
       "      <td>67.0</td>\n",
       "      <td>comfortable</td>\n",
       "      <td>4.477</td>\n",
       "    </tr>\n",
       "    <tr>\n",
       "      <th>2</th>\n",
       "      <td>Men's Gunnison™ II Omni-Heat™ Boot</td>\n",
       "      <td>2 Colors</td>\n",
       "      <td>Unisex</td>\n",
       "      <td>$90.00</td>\n",
       "      <td>3.0</td>\n",
       "      <td>Silver</td>\n",
       "      <td>BZH4I9C</td>\n",
       "      <td>1.0</td>\n",
       "      <td>sneaker</td>\n",
       "      <td>4.399</td>\n",
       "    </tr>\n",
       "    <tr>\n",
       "      <th>3</th>\n",
       "      <td>Men's Firecamp™ Fleece Lined Shoe</td>\n",
       "      <td>3 Colors</td>\n",
       "      <td>Women</td>\n",
       "      <td>$100.00</td>\n",
       "      <td>4.0</td>\n",
       "      <td>WhiteAlpine</td>\n",
       "      <td>0VQJUQJ</td>\n",
       "      <td>67.0</td>\n",
       "      <td>flat</td>\n",
       "      <td>4.334</td>\n",
       "    </tr>\n",
       "    <tr>\n",
       "      <th>4</th>\n",
       "      <td>Women's Firecamp™ Fleece Lined Shoe</td>\n",
       "      <td>3 Colors</td>\n",
       "      <td>Women</td>\n",
       "      <td>$100.00</td>\n",
       "      <td>3.0</td>\n",
       "      <td>Pink</td>\n",
       "      <td>6MJDHVF</td>\n",
       "      <td>59.0</td>\n",
       "      <td>mesh</td>\n",
       "      <td>4.652</td>\n",
       "    </tr>\n",
       "  </tbody>\n",
       "</table>\n",
       "</div>"
      ],
      "text/plain": [
       "                             shoe_name No_of_colour catagory   prices  \\\n",
       "0               Women's Firecamp™ Boot     4 Colors   Unisex  $100.00   \n",
       "1        Women’s Minx™ Shorty III Boot     2 Colors   Unisex   $90.00   \n",
       "2   Men's Gunnison™ II Omni-Heat™ Boot     2 Colors   Unisex   $90.00   \n",
       "3    Men's Firecamp™ Fleece Lined Shoe     3 Colors    Women  $100.00   \n",
       "4  Women's Firecamp™ Fleece Lined Shoe     3 Colors    Women  $100.00   \n",
       "\n",
       "   count_of_size      colours style_code  reviews     features  ratings  \n",
       "0            5.0         Gold    L88MPKU      1.0      low-top    4.497  \n",
       "1            4.0        Black    E3KX07Y     67.0  comfortable    4.477  \n",
       "2            3.0       Silver    BZH4I9C      1.0      sneaker    4.399  \n",
       "3            4.0  WhiteAlpine    0VQJUQJ     67.0         flat    4.334  \n",
       "4            3.0         Pink    6MJDHVF     59.0         mesh    4.652  "
      ]
     },
     "execution_count": 16,
     "metadata": {},
     "output_type": "execute_result"
    }
   ],
   "source": [
    "df.head()"
   ]
  },
  {
   "cell_type": "markdown",
   "id": "90971fa3",
   "metadata": {},
   "source": [
    "Here we can see first 5 rows of our data by which we can see that which factor is affecting shoe price or rating and we'll also check this by further analysing the data"
   ]
  },
  {
   "cell_type": "code",
   "execution_count": 17,
   "id": "aad5ca08",
   "metadata": {},
   "outputs": [
    {
     "data": {
      "text/html": [
       "<div>\n",
       "<style scoped>\n",
       "    .dataframe tbody tr th:only-of-type {\n",
       "        vertical-align: middle;\n",
       "    }\n",
       "\n",
       "    .dataframe tbody tr th {\n",
       "        vertical-align: top;\n",
       "    }\n",
       "\n",
       "    .dataframe thead th {\n",
       "        text-align: right;\n",
       "    }\n",
       "</style>\n",
       "<table border=\"1\" class=\"dataframe\">\n",
       "  <thead>\n",
       "    <tr style=\"text-align: right;\">\n",
       "      <th></th>\n",
       "      <th>shoe_name</th>\n",
       "      <th>No_of_colour</th>\n",
       "      <th>catagory</th>\n",
       "      <th>prices</th>\n",
       "      <th>count_of_size</th>\n",
       "      <th>colours</th>\n",
       "      <th>style_code</th>\n",
       "      <th>reviews</th>\n",
       "      <th>features</th>\n",
       "      <th>ratings</th>\n",
       "    </tr>\n",
       "  </thead>\n",
       "  <tbody>\n",
       "    <tr>\n",
       "      <th>623</th>\n",
       "      <td>NaN</td>\n",
       "      <td>NaN</td>\n",
       "      <td>NaN</td>\n",
       "      <td>NaN</td>\n",
       "      <td>NaN</td>\n",
       "      <td>NaN</td>\n",
       "      <td>NaN</td>\n",
       "      <td>NaN</td>\n",
       "      <td>slip-on</td>\n",
       "      <td>NaN</td>\n",
       "    </tr>\n",
       "    <tr>\n",
       "      <th>624</th>\n",
       "      <td>NaN</td>\n",
       "      <td>NaN</td>\n",
       "      <td>NaN</td>\n",
       "      <td>NaN</td>\n",
       "      <td>NaN</td>\n",
       "      <td>NaN</td>\n",
       "      <td>NaN</td>\n",
       "      <td>NaN</td>\n",
       "      <td>lace-up</td>\n",
       "      <td>NaN</td>\n",
       "    </tr>\n",
       "    <tr>\n",
       "      <th>625</th>\n",
       "      <td>NaN</td>\n",
       "      <td>NaN</td>\n",
       "      <td>NaN</td>\n",
       "      <td>NaN</td>\n",
       "      <td>NaN</td>\n",
       "      <td>NaN</td>\n",
       "      <td>NaN</td>\n",
       "      <td>NaN</td>\n",
       "      <td>canvas</td>\n",
       "      <td>NaN</td>\n",
       "    </tr>\n",
       "    <tr>\n",
       "      <th>626</th>\n",
       "      <td>NaN</td>\n",
       "      <td>NaN</td>\n",
       "      <td>NaN</td>\n",
       "      <td>NaN</td>\n",
       "      <td>NaN</td>\n",
       "      <td>NaN</td>\n",
       "      <td>NaN</td>\n",
       "      <td>NaN</td>\n",
       "      <td>lace-up</td>\n",
       "      <td>NaN</td>\n",
       "    </tr>\n",
       "    <tr>\n",
       "      <th>627</th>\n",
       "      <td>NaN</td>\n",
       "      <td>NaN</td>\n",
       "      <td>NaN</td>\n",
       "      <td>NaN</td>\n",
       "      <td>NaN</td>\n",
       "      <td>NaN</td>\n",
       "      <td>NaN</td>\n",
       "      <td>NaN</td>\n",
       "      <td>suede</td>\n",
       "      <td>NaN</td>\n",
       "    </tr>\n",
       "  </tbody>\n",
       "</table>\n",
       "</div>"
      ],
      "text/plain": [
       "    shoe_name No_of_colour catagory prices  count_of_size colours style_code  \\\n",
       "623       NaN          NaN      NaN    NaN            NaN     NaN        NaN   \n",
       "624       NaN          NaN      NaN    NaN            NaN     NaN        NaN   \n",
       "625       NaN          NaN      NaN    NaN            NaN     NaN        NaN   \n",
       "626       NaN          NaN      NaN    NaN            NaN     NaN        NaN   \n",
       "627       NaN          NaN      NaN    NaN            NaN     NaN        NaN   \n",
       "\n",
       "     reviews features  ratings  \n",
       "623      NaN  slip-on      NaN  \n",
       "624      NaN  lace-up      NaN  \n",
       "625      NaN   canvas      NaN  \n",
       "626      NaN  lace-up      NaN  \n",
       "627      NaN    suede      NaN  "
      ]
     },
     "execution_count": 17,
     "metadata": {},
     "output_type": "execute_result"
    }
   ],
   "source": [
    "df.tail()"
   ]
  },
  {
   "cell_type": "markdown",
   "id": "2761f319",
   "metadata": {},
   "source": [
    "Here we can see last 5 rows of our data and we can see we have maximum values as null except feature column which we need to treat further."
   ]
  },
  {
   "cell_type": "code",
   "execution_count": 19,
   "id": "ead54dc8",
   "metadata": {},
   "outputs": [
    {
     "data": {
      "text/plain": [
       "(628, 10)"
      ]
     },
     "execution_count": 19,
     "metadata": {},
     "output_type": "execute_result"
    }
   ],
   "source": [
    "df.shape"
   ]
  },
  {
   "cell_type": "markdown",
   "id": "1ff47470",
   "metadata": {},
   "source": [
    "We can see that we are having 658 rows and 10 columns in our dataset, an all the 12 columns has been explained above, by which we can be sure that we are not missing any factor affecting price or ratings of any shoe."
   ]
  },
  {
   "cell_type": "code",
   "execution_count": 20,
   "id": "989fb9e7",
   "metadata": {},
   "outputs": [
    {
     "data": {
      "text/plain": [
       "Index(['shoe_name', 'No_of_colour', 'catagory', 'prices', 'count_of_size',\n",
       "       'colours', 'style_code', 'reviews', 'features', 'ratings'],\n",
       "      dtype='object')"
      ]
     },
     "execution_count": 20,
     "metadata": {},
     "output_type": "execute_result"
    }
   ],
   "source": [
    "df.columns"
   ]
  },
  {
   "cell_type": "markdown",
   "id": "9915015c",
   "metadata": {},
   "source": [
    "Here are names of all 10 columns which has been defined above."
   ]
  },
  {
   "cell_type": "code",
   "execution_count": 21,
   "id": "ddc7d02a",
   "metadata": {},
   "outputs": [
    {
     "data": {
      "text/plain": [
       "shoe_name         object\n",
       "No_of_colour      object\n",
       "catagory          object\n",
       "prices            object\n",
       "count_of_size    float64\n",
       "colours           object\n",
       "style_code        object\n",
       "reviews          float64\n",
       "features          object\n",
       "ratings          float64\n",
       "dtype: object"
      ]
     },
     "execution_count": 21,
     "metadata": {},
     "output_type": "execute_result"
    }
   ],
   "source": [
    "df.dtypes"
   ]
  },
  {
   "cell_type": "markdown",
   "id": "f7ce40fc",
   "metadata": {},
   "source": [
    "With the help of dtypes, we can see that we are having many columns having object datatypes and we need to convert them into integer for working on them affectively."
   ]
  },
  {
   "cell_type": "code",
   "execution_count": 22,
   "id": "b9ff1649",
   "metadata": {},
   "outputs": [
    {
     "data": {
      "text/plain": [
       "shoe_name        264\n",
       "No_of_colour     487\n",
       "catagory         264\n",
       "prices           284\n",
       "count_of_size      9\n",
       "colours            9\n",
       "style_code         9\n",
       "reviews          324\n",
       "features           0\n",
       "ratings          329\n",
       "dtype: int64"
      ]
     },
     "execution_count": 22,
     "metadata": {},
     "output_type": "execute_result"
    }
   ],
   "source": [
    "df.isnull().sum()"
   ]
  },
  {
   "cell_type": "markdown",
   "id": "9a942bf6",
   "metadata": {},
   "source": [
    "Let's remove null values from our data and let's also check impact on heatmap before and after removing null values"
   ]
  },
  {
   "cell_type": "code",
   "execution_count": 23,
   "id": "09dce735",
   "metadata": {},
   "outputs": [
    {
     "data": {
      "text/plain": [
       "<Axes: >"
      ]
     },
     "execution_count": 23,
     "metadata": {},
     "output_type": "execute_result"
    },
    {
     "data": {
      "image/png": "[encoded data removed]",
      "text/plain": [
       "<Figure size 640x480 with 2 Axes>"
      ]
     },
     "metadata": {},
     "output_type": "display_data"
    }
   ],
   "source": [
    "sns.heatmap(df.isnull())"
   ]
  },
  {
   "cell_type": "markdown",
   "id": "462a997b",
   "metadata": {},
   "source": [
    "Here is the heatmap before removing null values."
   ]
  },
  {
   "cell_type": "code",
   "execution_count": 7,
   "id": "7e61674c",
   "metadata": {},
   "outputs": [],
   "source": [
    "df1=df.dropna()"
   ]
  },
  {
   "cell_type": "code",
   "execution_count": 8,
   "id": "75854ac3",
   "metadata": {},
   "outputs": [
    {
     "data": {
      "text/plain": [
       "<Axes: >"
      ]
     },
     "execution_count": 8,
     "metadata": {},
     "output_type": "execute_result"
    },
    {
     "data": {
      "image/png": "[encoded data removed]",
      "text/plain": [
       "<Figure size 640x480 with 2 Axes>"
      ]
     },
     "metadata": {},
     "output_type": "display_data"
    }
   ],
   "source": [
    "sns.heatmap(df1.isnull())"
   ]
  },
  {
   "cell_type": "markdown",
   "id": "c79c0726",
   "metadata": {},
   "source": [
    "We can see the difference here, also as now we had lost data we need to use it wisely."
   ]
  },
  {
   "cell_type": "code",
   "execution_count": 45,
   "id": "eb815f31",
   "metadata": {},
   "outputs": [
    {
     "name": "stdout",
     "output_type": "stream",
     "text": [
      "<class 'pandas.core.frame.DataFrame'>\n",
      "Int64Index: 141 entries, 0 to 140\n",
      "Data columns (total 9 columns):\n",
      " #   Column         Non-Null Count  Dtype  \n",
      "---  ------         --------------  -----  \n",
      " 0   shoe_name      141 non-null    int32  \n",
      " 1   No_of_colour   141 non-null    int32  \n",
      " 2   catagory       141 non-null    int32  \n",
      " 3   prices         141 non-null    int32  \n",
      " 4   count_of_size  141 non-null    float64\n",
      " 5   colours        141 non-null    int32  \n",
      " 6   reviews        141 non-null    float64\n",
      " 7   features       141 non-null    int32  \n",
      " 8   ratings        141 non-null    float64\n",
      "dtypes: float64(3), int32(6)\n",
      "memory usage: 7.7 KB\n"
     ]
    }
   ],
   "source": [
    "df1.info()"
   ]
  },
  {
   "cell_type": "markdown",
   "id": "5f8767d6",
   "metadata": {},
   "source": [
    "We can also analyse null values and datatype by above function."
   ]
  },
  {
   "cell_type": "code",
   "execution_count": 30,
   "id": "e2ac6229",
   "metadata": {},
   "outputs": [
    {
     "data": {
      "text/html": [
       "<div>\n",
       "<style scoped>\n",
       "    .dataframe tbody tr th:only-of-type {\n",
       "        vertical-align: middle;\n",
       "    }\n",
       "\n",
       "    .dataframe tbody tr th {\n",
       "        vertical-align: top;\n",
       "    }\n",
       "\n",
       "    .dataframe thead th {\n",
       "        text-align: right;\n",
       "    }\n",
       "</style>\n",
       "<table border=\"1\" class=\"dataframe\">\n",
       "  <thead>\n",
       "    <tr style=\"text-align: right;\">\n",
       "      <th></th>\n",
       "      <th>Unique values</th>\n",
       "    </tr>\n",
       "  </thead>\n",
       "  <tbody>\n",
       "    <tr>\n",
       "      <th>shoe_name</th>\n",
       "      <td>141</td>\n",
       "    </tr>\n",
       "    <tr>\n",
       "      <th>No_of_colour</th>\n",
       "      <td>7</td>\n",
       "    </tr>\n",
       "    <tr>\n",
       "      <th>catagory</th>\n",
       "      <td>3</td>\n",
       "    </tr>\n",
       "    <tr>\n",
       "      <th>prices</th>\n",
       "      <td>28</td>\n",
       "    </tr>\n",
       "    <tr>\n",
       "      <th>count_of_size</th>\n",
       "      <td>4</td>\n",
       "    </tr>\n",
       "    <tr>\n",
       "      <th>colours</th>\n",
       "      <td>6</td>\n",
       "    </tr>\n",
       "    <tr>\n",
       "      <th>style_code</th>\n",
       "      <td>141</td>\n",
       "    </tr>\n",
       "    <tr>\n",
       "      <th>reviews</th>\n",
       "      <td>65</td>\n",
       "    </tr>\n",
       "    <tr>\n",
       "      <th>features</th>\n",
       "      <td>16</td>\n",
       "    </tr>\n",
       "    <tr>\n",
       "      <th>ratings</th>\n",
       "      <td>126</td>\n",
       "    </tr>\n",
       "  </tbody>\n",
       "</table>\n",
       "</div>"
      ],
      "text/plain": [
       "               Unique values\n",
       "shoe_name                141\n",
       "No_of_colour               7\n",
       "catagory                   3\n",
       "prices                    28\n",
       "count_of_size              4\n",
       "colours                    6\n",
       "style_code               141\n",
       "reviews                   65\n",
       "features                  16\n",
       "ratings                  126"
      ]
     },
     "execution_count": 30,
     "metadata": {},
     "output_type": "execute_result"
    }
   ],
   "source": [
    "#Let's check unique values in our dataframe\n",
    "df1.nunique().to_frame(\"Unique values\")"
   ]
  },
  {
   "cell_type": "markdown",
   "id": "5027ecc8",
   "metadata": {},
   "source": [
    "We can see we are having much null calues in object column and it is good for analysis further."
   ]
  },
  {
   "cell_type": "code",
   "execution_count": 9,
   "id": "24696eea",
   "metadata": {},
   "outputs": [
    {
     "data": {
      "text/plain": [
       "0"
      ]
     },
     "execution_count": 9,
     "metadata": {},
     "output_type": "execute_result"
    }
   ],
   "source": [
    "#Let's check for duplicates\n",
    "df1.duplicated().sum()"
   ]
  },
  {
   "cell_type": "markdown",
   "id": "f1ff48e1",
   "metadata": {},
   "source": [
    "We can see that we do not have a single duplicated row, which is beneficial for us as we can not bear anymore dataloss."
   ]
  },
  {
   "cell_type": "code",
   "execution_count": 36,
   "id": "d8db4ad5",
   "metadata": {},
   "outputs": [
    {
     "data": {
      "text/html": [
       "<div>\n",
       "<style scoped>\n",
       "    .dataframe tbody tr th:only-of-type {\n",
       "        vertical-align: middle;\n",
       "    }\n",
       "\n",
       "    .dataframe tbody tr th {\n",
       "        vertical-align: top;\n",
       "    }\n",
       "\n",
       "    .dataframe thead th {\n",
       "        text-align: right;\n",
       "    }\n",
       "</style>\n",
       "<table border=\"1\" class=\"dataframe\">\n",
       "  <thead>\n",
       "    <tr style=\"text-align: right;\">\n",
       "      <th></th>\n",
       "      <th>count_of_size</th>\n",
       "      <th>reviews</th>\n",
       "      <th>ratings</th>\n",
       "    </tr>\n",
       "  </thead>\n",
       "  <tbody>\n",
       "    <tr>\n",
       "      <th>count</th>\n",
       "      <td>141.000000</td>\n",
       "      <td>141.000000</td>\n",
       "      <td>141.000000</td>\n",
       "    </tr>\n",
       "    <tr>\n",
       "      <th>mean</th>\n",
       "      <td>4.581560</td>\n",
       "      <td>115.858156</td>\n",
       "      <td>4.417681</td>\n",
       "    </tr>\n",
       "    <tr>\n",
       "      <th>std</th>\n",
       "      <td>1.102957</td>\n",
       "      <td>193.937088</td>\n",
       "      <td>0.248724</td>\n",
       "    </tr>\n",
       "    <tr>\n",
       "      <th>min</th>\n",
       "      <td>3.000000</td>\n",
       "      <td>1.000000</td>\n",
       "      <td>3.591000</td>\n",
       "    </tr>\n",
       "    <tr>\n",
       "      <th>25%</th>\n",
       "      <td>4.000000</td>\n",
       "      <td>5.000000</td>\n",
       "      <td>4.300000</td>\n",
       "    </tr>\n",
       "    <tr>\n",
       "      <th>50%</th>\n",
       "      <td>5.000000</td>\n",
       "      <td>31.000000</td>\n",
       "      <td>4.467000</td>\n",
       "    </tr>\n",
       "    <tr>\n",
       "      <th>75%</th>\n",
       "      <td>5.000000</td>\n",
       "      <td>102.000000</td>\n",
       "      <td>4.600000</td>\n",
       "    </tr>\n",
       "    <tr>\n",
       "      <th>max</th>\n",
       "      <td>6.000000</td>\n",
       "      <td>955.000000</td>\n",
       "      <td>4.900000</td>\n",
       "    </tr>\n",
       "  </tbody>\n",
       "</table>\n",
       "</div>"
      ],
      "text/plain": [
       "       count_of_size     reviews     ratings\n",
       "count     141.000000  141.000000  141.000000\n",
       "mean        4.581560  115.858156    4.417681\n",
       "std         1.102957  193.937088    0.248724\n",
       "min         3.000000    1.000000    3.591000\n",
       "25%         4.000000    5.000000    4.300000\n",
       "50%         5.000000   31.000000    4.467000\n",
       "75%         5.000000  102.000000    4.600000\n",
       "max         6.000000  955.000000    4.900000"
      ]
     },
     "execution_count": 36,
     "metadata": {},
     "output_type": "execute_result"
    }
   ],
   "source": [
    "df1.describe()"
   ]
  },
  {
   "cell_type": "markdown",
   "id": "353ab67f",
   "metadata": {},
   "source": [
    "Following is the complete analysis of data in which we can see that our data is absolutely perfect as we are not getting any negative value.\n",
    "\n",
    "Here are some observation as per above date.\n",
    "\n",
    "We can see that the count of all columns are same it means our data is perfect and ready to work with.\n",
    "\n",
    "We can see that there is difference between mean and median of reviews which means it is right skewed which we'll treat further.\n",
    "\n",
    "By analysing the data we can see a huge difference between 75th percentile and maximum value of review which can be treated by simple z score method\n",
    "\n",
    "By analysing data we can see that style_code is not playing any role in prediction so let us drop that column."
   ]
  },
  {
   "cell_type": "code",
   "execution_count": 10,
   "id": "c0efbe2e",
   "metadata": {},
   "outputs": [],
   "source": [
    "df1.drop(columns=['style_code'], inplace=True)"
   ]
  },
  {
   "cell_type": "markdown",
   "id": "97d3598e",
   "metadata": {},
   "source": [
    "Now let's change our object columns to integer to have a better understanding and analysis of data"
   ]
  },
  {
   "cell_type": "code",
   "execution_count": 11,
   "id": "b34c6c28",
   "metadata": {},
   "outputs": [],
   "source": [
    "from sklearn.preprocessing import LabelEncoder\n",
    "label_encoder = LabelEncoder()"
   ]
  },
  {
   "cell_type": "code",
   "execution_count": 12,
   "id": "350aaa46",
   "metadata": {},
   "outputs": [],
   "source": [
    "df1['shoe_name'] = label_encoder.fit_transform(df1['shoe_name'])\n",
    "df1['catagory'] = label_encoder.fit_transform(df1['catagory'])\n",
    "df1['features'] = label_encoder.fit_transform(df1['features'])\n",
    "df1['colours'] = label_encoder.fit_transform(df1['colours'])"
   ]
  },
  {
   "cell_type": "code",
   "execution_count": 13,
   "id": "6044b598",
   "metadata": {},
   "outputs": [
    {
     "data": {
      "text/html": [
       "<div>\n",
       "<style scoped>\n",
       "    .dataframe tbody tr th:only-of-type {\n",
       "        vertical-align: middle;\n",
       "    }\n",
       "\n",
       "    .dataframe tbody tr th {\n",
       "        vertical-align: top;\n",
       "    }\n",
       "\n",
       "    .dataframe thead th {\n",
       "        text-align: right;\n",
       "    }\n",
       "</style>\n",
       "<table border=\"1\" class=\"dataframe\">\n",
       "  <thead>\n",
       "    <tr style=\"text-align: right;\">\n",
       "      <th></th>\n",
       "      <th>shoe_name</th>\n",
       "      <th>No_of_colour</th>\n",
       "      <th>catagory</th>\n",
       "      <th>prices</th>\n",
       "      <th>count_of_size</th>\n",
       "      <th>colours</th>\n",
       "      <th>reviews</th>\n",
       "      <th>features</th>\n",
       "      <th>ratings</th>\n",
       "    </tr>\n",
       "  </thead>\n",
       "  <tbody>\n",
       "    <tr>\n",
       "      <th>0</th>\n",
       "      <td>94</td>\n",
       "      <td>4 Colors</td>\n",
       "      <td>1</td>\n",
       "      <td>$100.00</td>\n",
       "      <td>5.0</td>\n",
       "      <td>1</td>\n",
       "      <td>1.0</td>\n",
       "      <td>8</td>\n",
       "      <td>4.497</td>\n",
       "    </tr>\n",
       "    <tr>\n",
       "      <th>1</th>\n",
       "      <td>139</td>\n",
       "      <td>2 Colors</td>\n",
       "      <td>1</td>\n",
       "      <td>$90.00</td>\n",
       "      <td>4.0</td>\n",
       "      <td>0</td>\n",
       "      <td>67.0</td>\n",
       "      <td>2</td>\n",
       "      <td>4.477</td>\n",
       "    </tr>\n",
       "    <tr>\n",
       "      <th>2</th>\n",
       "      <td>35</td>\n",
       "      <td>2 Colors</td>\n",
       "      <td>1</td>\n",
       "      <td>$90.00</td>\n",
       "      <td>3.0</td>\n",
       "      <td>4</td>\n",
       "      <td>1.0</td>\n",
       "      <td>13</td>\n",
       "      <td>4.399</td>\n",
       "    </tr>\n",
       "    <tr>\n",
       "      <th>3</th>\n",
       "      <td>26</td>\n",
       "      <td>3 Colors</td>\n",
       "      <td>2</td>\n",
       "      <td>$100.00</td>\n",
       "      <td>4.0</td>\n",
       "      <td>5</td>\n",
       "      <td>67.0</td>\n",
       "      <td>3</td>\n",
       "      <td>4.334</td>\n",
       "    </tr>\n",
       "    <tr>\n",
       "      <th>4</th>\n",
       "      <td>96</td>\n",
       "      <td>3 Colors</td>\n",
       "      <td>2</td>\n",
       "      <td>$100.00</td>\n",
       "      <td>3.0</td>\n",
       "      <td>3</td>\n",
       "      <td>59.0</td>\n",
       "      <td>9</td>\n",
       "      <td>4.652</td>\n",
       "    </tr>\n",
       "    <tr>\n",
       "      <th>...</th>\n",
       "      <td>...</td>\n",
       "      <td>...</td>\n",
       "      <td>...</td>\n",
       "      <td>...</td>\n",
       "      <td>...</td>\n",
       "      <td>...</td>\n",
       "      <td>...</td>\n",
       "      <td>...</td>\n",
       "      <td>...</td>\n",
       "    </tr>\n",
       "    <tr>\n",
       "      <th>136</th>\n",
       "      <td>134</td>\n",
       "      <td>1 Color</td>\n",
       "      <td>1</td>\n",
       "      <td>$119.95</td>\n",
       "      <td>3.0</td>\n",
       "      <td>2</td>\n",
       "      <td>64.0</td>\n",
       "      <td>7</td>\n",
       "      <td>4.142</td>\n",
       "    </tr>\n",
       "    <tr>\n",
       "      <th>137</th>\n",
       "      <td>108</td>\n",
       "      <td>1 Color</td>\n",
       "      <td>1</td>\n",
       "      <td>$140.00</td>\n",
       "      <td>6.0</td>\n",
       "      <td>3</td>\n",
       "      <td>98.0</td>\n",
       "      <td>8</td>\n",
       "      <td>4.700</td>\n",
       "    </tr>\n",
       "    <tr>\n",
       "      <th>138</th>\n",
       "      <td>11</td>\n",
       "      <td>3 Colors</td>\n",
       "      <td>1</td>\n",
       "      <td>$40.00</td>\n",
       "      <td>3.0</td>\n",
       "      <td>4</td>\n",
       "      <td>14.0</td>\n",
       "      <td>13</td>\n",
       "      <td>4.300</td>\n",
       "    </tr>\n",
       "    <tr>\n",
       "      <th>139</th>\n",
       "      <td>62</td>\n",
       "      <td>3 Colors</td>\n",
       "      <td>1</td>\n",
       "      <td>$170.00</td>\n",
       "      <td>5.0</td>\n",
       "      <td>4</td>\n",
       "      <td>671.0</td>\n",
       "      <td>11</td>\n",
       "      <td>4.754</td>\n",
       "    </tr>\n",
       "    <tr>\n",
       "      <th>140</th>\n",
       "      <td>17</td>\n",
       "      <td>3 Colors</td>\n",
       "      <td>1</td>\n",
       "      <td>$109.95</td>\n",
       "      <td>4.0</td>\n",
       "      <td>2</td>\n",
       "      <td>11.0</td>\n",
       "      <td>14</td>\n",
       "      <td>4.205</td>\n",
       "    </tr>\n",
       "  </tbody>\n",
       "</table>\n",
       "<p>141 rows × 9 columns</p>\n",
       "</div>"
      ],
      "text/plain": [
       "     shoe_name No_of_colour  catagory   prices  count_of_size  colours  \\\n",
       "0           94     4 Colors         1  $100.00            5.0        1   \n",
       "1          139     2 Colors         1   $90.00            4.0        0   \n",
       "2           35     2 Colors         1   $90.00            3.0        4   \n",
       "3           26     3 Colors         2  $100.00            4.0        5   \n",
       "4           96     3 Colors         2  $100.00            3.0        3   \n",
       "..         ...          ...       ...      ...            ...      ...   \n",
       "136        134      1 Color         1  $119.95            3.0        2   \n",
       "137        108      1 Color         1  $140.00            6.0        3   \n",
       "138         11     3 Colors         1   $40.00            3.0        4   \n",
       "139         62     3 Colors         1  $170.00            5.0        4   \n",
       "140         17     3 Colors         1  $109.95            4.0        2   \n",
       "\n",
       "     reviews  features  ratings  \n",
       "0        1.0         8    4.497  \n",
       "1       67.0         2    4.477  \n",
       "2        1.0        13    4.399  \n",
       "3       67.0         3    4.334  \n",
       "4       59.0         9    4.652  \n",
       "..       ...       ...      ...  \n",
       "136     64.0         7    4.142  \n",
       "137     98.0         8    4.700  \n",
       "138     14.0        13    4.300  \n",
       "139    671.0        11    4.754  \n",
       "140     11.0        14    4.205  \n",
       "\n",
       "[141 rows x 9 columns]"
      ]
     },
     "execution_count": 13,
     "metadata": {},
     "output_type": "execute_result"
    }
   ],
   "source": [
    "df1"
   ]
  },
  {
   "cell_type": "code",
   "execution_count": 14,
   "id": "165e2d14",
   "metadata": {},
   "outputs": [],
   "source": [
    "df1['prices'] = df1['prices'].str.replace('$', '')"
   ]
  },
  {
   "cell_type": "code",
   "execution_count": 15,
   "id": "191690e5",
   "metadata": {},
   "outputs": [],
   "source": [
    "df1['No_of_colour'] = df1['No_of_colour'].str.replace('Colors', '')"
   ]
  },
  {
   "cell_type": "code",
   "execution_count": 16,
   "id": "6364c3c4",
   "metadata": {},
   "outputs": [],
   "source": [
    "df1['No_of_colour'] = df1['No_of_colour'].str.replace('Color', '')"
   ]
  },
  {
   "cell_type": "code",
   "execution_count": 17,
   "id": "fa7ef60a",
   "metadata": {},
   "outputs": [],
   "source": [
    "df1['prices'] = pd.to_numeric(df1['prices'])"
   ]
  },
  {
   "cell_type": "code",
   "execution_count": 18,
   "id": "9caffc52",
   "metadata": {},
   "outputs": [],
   "source": [
    "df1['No_of_colour'] = pd.to_numeric(df1['No_of_colour'])"
   ]
  },
  {
   "cell_type": "code",
   "execution_count": 19,
   "id": "a33d1df6",
   "metadata": {},
   "outputs": [
    {
     "data": {
      "text/plain": [
       "shoe_name          int32\n",
       "No_of_colour       int64\n",
       "catagory           int32\n",
       "prices           float64\n",
       "count_of_size    float64\n",
       "colours            int32\n",
       "reviews          float64\n",
       "features           int32\n",
       "ratings          float64\n",
       "dtype: object"
      ]
     },
     "execution_count": 19,
     "metadata": {},
     "output_type": "execute_result"
    }
   ],
   "source": [
    "df1.dtypes"
   ]
  },
  {
   "cell_type": "markdown",
   "id": "cf488937",
   "metadata": {},
   "source": [
    "We can see we have changed every column data to executable for machine learning and further analysis."
   ]
  },
  {
   "cell_type": "code",
   "execution_count": 82,
   "id": "35043512",
   "metadata": {},
   "outputs": [
    {
     "data": {
      "text/html": [
       "<div>\n",
       "<style scoped>\n",
       "    .dataframe tbody tr th:only-of-type {\n",
       "        vertical-align: middle;\n",
       "    }\n",
       "\n",
       "    .dataframe tbody tr th {\n",
       "        vertical-align: top;\n",
       "    }\n",
       "\n",
       "    .dataframe thead th {\n",
       "        text-align: right;\n",
       "    }\n",
       "</style>\n",
       "<table border=\"1\" class=\"dataframe\">\n",
       "  <thead>\n",
       "    <tr style=\"text-align: right;\">\n",
       "      <th></th>\n",
       "      <th>shoe_name</th>\n",
       "      <th>No_of_colour</th>\n",
       "      <th>catagory</th>\n",
       "      <th>prices</th>\n",
       "      <th>count_of_size</th>\n",
       "      <th>colours</th>\n",
       "      <th>reviews</th>\n",
       "      <th>features</th>\n",
       "      <th>ratings</th>\n",
       "    </tr>\n",
       "  </thead>\n",
       "  <tbody>\n",
       "    <tr>\n",
       "      <th>0</th>\n",
       "      <td>94</td>\n",
       "      <td>4</td>\n",
       "      <td>1</td>\n",
       "      <td>100.00</td>\n",
       "      <td>5.0</td>\n",
       "      <td>1</td>\n",
       "      <td>1.0</td>\n",
       "      <td>8</td>\n",
       "      <td>4.497</td>\n",
       "    </tr>\n",
       "    <tr>\n",
       "      <th>1</th>\n",
       "      <td>139</td>\n",
       "      <td>2</td>\n",
       "      <td>1</td>\n",
       "      <td>90.00</td>\n",
       "      <td>4.0</td>\n",
       "      <td>0</td>\n",
       "      <td>67.0</td>\n",
       "      <td>2</td>\n",
       "      <td>4.477</td>\n",
       "    </tr>\n",
       "    <tr>\n",
       "      <th>2</th>\n",
       "      <td>35</td>\n",
       "      <td>2</td>\n",
       "      <td>1</td>\n",
       "      <td>90.00</td>\n",
       "      <td>3.0</td>\n",
       "      <td>4</td>\n",
       "      <td>1.0</td>\n",
       "      <td>13</td>\n",
       "      <td>4.399</td>\n",
       "    </tr>\n",
       "    <tr>\n",
       "      <th>3</th>\n",
       "      <td>26</td>\n",
       "      <td>3</td>\n",
       "      <td>2</td>\n",
       "      <td>100.00</td>\n",
       "      <td>4.0</td>\n",
       "      <td>5</td>\n",
       "      <td>67.0</td>\n",
       "      <td>3</td>\n",
       "      <td>4.334</td>\n",
       "    </tr>\n",
       "    <tr>\n",
       "      <th>4</th>\n",
       "      <td>96</td>\n",
       "      <td>3</td>\n",
       "      <td>2</td>\n",
       "      <td>100.00</td>\n",
       "      <td>3.0</td>\n",
       "      <td>3</td>\n",
       "      <td>59.0</td>\n",
       "      <td>9</td>\n",
       "      <td>4.652</td>\n",
       "    </tr>\n",
       "    <tr>\n",
       "      <th>...</th>\n",
       "      <td>...</td>\n",
       "      <td>...</td>\n",
       "      <td>...</td>\n",
       "      <td>...</td>\n",
       "      <td>...</td>\n",
       "      <td>...</td>\n",
       "      <td>...</td>\n",
       "      <td>...</td>\n",
       "      <td>...</td>\n",
       "    </tr>\n",
       "    <tr>\n",
       "      <th>136</th>\n",
       "      <td>134</td>\n",
       "      <td>1</td>\n",
       "      <td>1</td>\n",
       "      <td>119.95</td>\n",
       "      <td>3.0</td>\n",
       "      <td>2</td>\n",
       "      <td>64.0</td>\n",
       "      <td>7</td>\n",
       "      <td>4.142</td>\n",
       "    </tr>\n",
       "    <tr>\n",
       "      <th>137</th>\n",
       "      <td>108</td>\n",
       "      <td>1</td>\n",
       "      <td>1</td>\n",
       "      <td>140.00</td>\n",
       "      <td>6.0</td>\n",
       "      <td>3</td>\n",
       "      <td>98.0</td>\n",
       "      <td>8</td>\n",
       "      <td>4.700</td>\n",
       "    </tr>\n",
       "    <tr>\n",
       "      <th>138</th>\n",
       "      <td>11</td>\n",
       "      <td>3</td>\n",
       "      <td>1</td>\n",
       "      <td>40.00</td>\n",
       "      <td>3.0</td>\n",
       "      <td>4</td>\n",
       "      <td>14.0</td>\n",
       "      <td>13</td>\n",
       "      <td>4.300</td>\n",
       "    </tr>\n",
       "    <tr>\n",
       "      <th>139</th>\n",
       "      <td>62</td>\n",
       "      <td>3</td>\n",
       "      <td>1</td>\n",
       "      <td>170.00</td>\n",
       "      <td>5.0</td>\n",
       "      <td>4</td>\n",
       "      <td>671.0</td>\n",
       "      <td>11</td>\n",
       "      <td>4.754</td>\n",
       "    </tr>\n",
       "    <tr>\n",
       "      <th>140</th>\n",
       "      <td>17</td>\n",
       "      <td>3</td>\n",
       "      <td>1</td>\n",
       "      <td>109.95</td>\n",
       "      <td>4.0</td>\n",
       "      <td>2</td>\n",
       "      <td>11.0</td>\n",
       "      <td>14</td>\n",
       "      <td>4.205</td>\n",
       "    </tr>\n",
       "  </tbody>\n",
       "</table>\n",
       "<p>141 rows × 9 columns</p>\n",
       "</div>"
      ],
      "text/plain": [
       "     shoe_name  No_of_colour  catagory  prices  count_of_size  colours  \\\n",
       "0           94             4         1  100.00            5.0        1   \n",
       "1          139             2         1   90.00            4.0        0   \n",
       "2           35             2         1   90.00            3.0        4   \n",
       "3           26             3         2  100.00            4.0        5   \n",
       "4           96             3         2  100.00            3.0        3   \n",
       "..         ...           ...       ...     ...            ...      ...   \n",
       "136        134             1         1  119.95            3.0        2   \n",
       "137        108             1         1  140.00            6.0        3   \n",
       "138         11             3         1   40.00            3.0        4   \n",
       "139         62             3         1  170.00            5.0        4   \n",
       "140         17             3         1  109.95            4.0        2   \n",
       "\n",
       "     reviews  features  ratings  \n",
       "0        1.0         8    4.497  \n",
       "1       67.0         2    4.477  \n",
       "2        1.0        13    4.399  \n",
       "3       67.0         3    4.334  \n",
       "4       59.0         9    4.652  \n",
       "..       ...       ...      ...  \n",
       "136     64.0         7    4.142  \n",
       "137     98.0         8    4.700  \n",
       "138     14.0        13    4.300  \n",
       "139    671.0        11    4.754  \n",
       "140     11.0        14    4.205  \n",
       "\n",
       "[141 rows x 9 columns]"
      ]
     },
     "execution_count": 82,
     "metadata": {},
     "output_type": "execute_result"
    }
   ],
   "source": [
    "#Let's have a look on our Data now\n",
    "df1"
   ]
  },
  {
   "cell_type": "code",
   "execution_count": 85,
   "id": "fec3a8f8",
   "metadata": {},
   "outputs": [
    {
     "data": {
      "text/html": [
       "<div>\n",
       "<style scoped>\n",
       "    .dataframe tbody tr th:only-of-type {\n",
       "        vertical-align: middle;\n",
       "    }\n",
       "\n",
       "    .dataframe tbody tr th {\n",
       "        vertical-align: top;\n",
       "    }\n",
       "\n",
       "    .dataframe thead th {\n",
       "        text-align: right;\n",
       "    }\n",
       "</style>\n",
       "<table border=\"1\" class=\"dataframe\">\n",
       "  <thead>\n",
       "    <tr style=\"text-align: right;\">\n",
       "      <th></th>\n",
       "      <th>shoe_name</th>\n",
       "      <th>No_of_colour</th>\n",
       "      <th>catagory</th>\n",
       "      <th>prices</th>\n",
       "      <th>count_of_size</th>\n",
       "      <th>colours</th>\n",
       "      <th>reviews</th>\n",
       "      <th>features</th>\n",
       "      <th>ratings</th>\n",
       "    </tr>\n",
       "  </thead>\n",
       "  <tbody>\n",
       "    <tr>\n",
       "      <th>shoe_name</th>\n",
       "      <td>1.000000</td>\n",
       "      <td>-0.016134</td>\n",
       "      <td>0.056809</td>\n",
       "      <td>-0.069637</td>\n",
       "      <td>0.008244</td>\n",
       "      <td>0.036768</td>\n",
       "      <td>-0.042938</td>\n",
       "      <td>0.040420</td>\n",
       "      <td>0.155486</td>\n",
       "    </tr>\n",
       "    <tr>\n",
       "      <th>No_of_colour</th>\n",
       "      <td>-0.016134</td>\n",
       "      <td>1.000000</td>\n",
       "      <td>-0.038898</td>\n",
       "      <td>-0.012533</td>\n",
       "      <td>-0.135039</td>\n",
       "      <td>0.001800</td>\n",
       "      <td>-0.083111</td>\n",
       "      <td>0.088001</td>\n",
       "      <td>0.005074</td>\n",
       "    </tr>\n",
       "    <tr>\n",
       "      <th>catagory</th>\n",
       "      <td>0.056809</td>\n",
       "      <td>-0.038898</td>\n",
       "      <td>1.000000</td>\n",
       "      <td>-0.006302</td>\n",
       "      <td>-0.018534</td>\n",
       "      <td>0.134285</td>\n",
       "      <td>0.009536</td>\n",
       "      <td>-0.072637</td>\n",
       "      <td>0.078012</td>\n",
       "    </tr>\n",
       "    <tr>\n",
       "      <th>prices</th>\n",
       "      <td>-0.069637</td>\n",
       "      <td>-0.012533</td>\n",
       "      <td>-0.006302</td>\n",
       "      <td>1.000000</td>\n",
       "      <td>0.031645</td>\n",
       "      <td>0.085665</td>\n",
       "      <td>-0.060908</td>\n",
       "      <td>0.021886</td>\n",
       "      <td>-0.043594</td>\n",
       "    </tr>\n",
       "    <tr>\n",
       "      <th>count_of_size</th>\n",
       "      <td>0.008244</td>\n",
       "      <td>-0.135039</td>\n",
       "      <td>-0.018534</td>\n",
       "      <td>0.031645</td>\n",
       "      <td>1.000000</td>\n",
       "      <td>0.119216</td>\n",
       "      <td>0.057891</td>\n",
       "      <td>-0.023710</td>\n",
       "      <td>-0.000022</td>\n",
       "    </tr>\n",
       "    <tr>\n",
       "      <th>colours</th>\n",
       "      <td>0.036768</td>\n",
       "      <td>0.001800</td>\n",
       "      <td>0.134285</td>\n",
       "      <td>0.085665</td>\n",
       "      <td>0.119216</td>\n",
       "      <td>1.000000</td>\n",
       "      <td>0.100867</td>\n",
       "      <td>0.104105</td>\n",
       "      <td>-0.055059</td>\n",
       "    </tr>\n",
       "    <tr>\n",
       "      <th>reviews</th>\n",
       "      <td>-0.042938</td>\n",
       "      <td>-0.083111</td>\n",
       "      <td>0.009536</td>\n",
       "      <td>-0.060908</td>\n",
       "      <td>0.057891</td>\n",
       "      <td>0.100867</td>\n",
       "      <td>1.000000</td>\n",
       "      <td>-0.020845</td>\n",
       "      <td>0.053576</td>\n",
       "    </tr>\n",
       "    <tr>\n",
       "      <th>features</th>\n",
       "      <td>0.040420</td>\n",
       "      <td>0.088001</td>\n",
       "      <td>-0.072637</td>\n",
       "      <td>0.021886</td>\n",
       "      <td>-0.023710</td>\n",
       "      <td>0.104105</td>\n",
       "      <td>-0.020845</td>\n",
       "      <td>1.000000</td>\n",
       "      <td>-0.078740</td>\n",
       "    </tr>\n",
       "    <tr>\n",
       "      <th>ratings</th>\n",
       "      <td>0.155486</td>\n",
       "      <td>0.005074</td>\n",
       "      <td>0.078012</td>\n",
       "      <td>-0.043594</td>\n",
       "      <td>-0.000022</td>\n",
       "      <td>-0.055059</td>\n",
       "      <td>0.053576</td>\n",
       "      <td>-0.078740</td>\n",
       "      <td>1.000000</td>\n",
       "    </tr>\n",
       "  </tbody>\n",
       "</table>\n",
       "</div>"
      ],
      "text/plain": [
       "               shoe_name  No_of_colour  catagory    prices  count_of_size  \\\n",
       "shoe_name       1.000000     -0.016134  0.056809 -0.069637       0.008244   \n",
       "No_of_colour   -0.016134      1.000000 -0.038898 -0.012533      -0.135039   \n",
       "catagory        0.056809     -0.038898  1.000000 -0.006302      -0.018534   \n",
       "prices         -0.069637     -0.012533 -0.006302  1.000000       0.031645   \n",
       "count_of_size   0.008244     -0.135039 -0.018534  0.031645       1.000000   \n",
       "colours         0.036768      0.001800  0.134285  0.085665       0.119216   \n",
       "reviews        -0.042938     -0.083111  0.009536 -0.060908       0.057891   \n",
       "features        0.040420      0.088001 -0.072637  0.021886      -0.023710   \n",
       "ratings         0.155486      0.005074  0.078012 -0.043594      -0.000022   \n",
       "\n",
       "                colours   reviews  features   ratings  \n",
       "shoe_name      0.036768 -0.042938  0.040420  0.155486  \n",
       "No_of_colour   0.001800 -0.083111  0.088001  0.005074  \n",
       "catagory       0.134285  0.009536 -0.072637  0.078012  \n",
       "prices         0.085665 -0.060908  0.021886 -0.043594  \n",
       "count_of_size  0.119216  0.057891 -0.023710 -0.000022  \n",
       "colours        1.000000  0.100867  0.104105 -0.055059  \n",
       "reviews        0.100867  1.000000 -0.020845  0.053576  \n",
       "features       0.104105 -0.020845  1.000000 -0.078740  \n",
       "ratings       -0.055059  0.053576 -0.078740  1.000000  "
      ]
     },
     "execution_count": 85,
     "metadata": {},
     "output_type": "execute_result"
    }
   ],
   "source": [
    "#Great! let's check for correaltion now\n",
    "df1.corr()"
   ]
  },
  {
   "cell_type": "markdown",
   "id": "b57fdfec",
   "metadata": {},
   "source": [
    "By the above we can see that we do not have any column having correlation with ease other which is great as we sodo not have to face any multicollinearity issue."
   ]
  },
  {
   "cell_type": "code",
   "execution_count": 86,
   "id": "f64b844c",
   "metadata": {},
   "outputs": [
    {
     "data": {
      "image/png": "[encoded data removed]",
      "text/plain": [
       "<Figure size 1000x800 with 2 Axes>"
      ]
     },
     "metadata": {},
     "output_type": "display_data"
    }
   ],
   "source": [
    "correlation = df1.corr()\n",
    "plt.figure(figsize=(10, 8))\n",
    "sns.heatmap(correlation, annot=True, cmap='coolwarm')\n",
    "plt.title('Correlation by heatmap')\n",
    "plt.show()"
   ]
  },
  {
   "cell_type": "markdown",
   "id": "2c9ceeed",
   "metadata": {},
   "source": [
    "The same we can check with the help of above heatmap, as the blocks are in blue we do not have correlation."
   ]
  },
  {
   "cell_type": "code",
   "execution_count": 88,
   "id": "5a8ce2d2",
   "metadata": {},
   "outputs": [
    {
     "data": {
      "text/plain": [
       "<seaborn.axisgrid.FacetGrid at 0x1d43289e9d0>"
      ]
     },
     "execution_count": 88,
     "metadata": {},
     "output_type": "execute_result"
    },
    {
     "data": {
      "image/png": "[encoded data removed]",
      "text/plain": [
       "<Figure size 500x500 with 1 Axes>"
      ]
     },
     "metadata": {},
     "output_type": "display_data"
    }
   ],
   "source": [
    "sns.lmplot(x='prices',y='ratings',data=df1,palette='colorblind')"
   ]
  },
  {
   "cell_type": "markdown",
   "id": "58584475",
   "metadata": {},
   "source": [
    "With the above graph we can see that shoes having low cost is having high ratings, let's analus further."
   ]
  },
  {
   "cell_type": "code",
   "execution_count": 89,
   "id": "6b88d887",
   "metadata": {},
   "outputs": [
    {
     "data": {
      "text/plain": [
       "<seaborn.axisgrid.PairGrid at 0x1d432ed6650>"
      ]
     },
     "execution_count": 89,
     "metadata": {},
     "output_type": "execute_result"
    },
    {
     "data": {
      "image/png": "[encoded data removed]",
      "text/plain": [
       "<Figure size 750x750 with 12 Axes>"
      ]
     },
     "metadata": {},
     "output_type": "display_data"
    }
   ],
   "source": [
    "#Let's make a pairplot for complete analysis of our data\n",
    "sns.pairplot(data=df,palette=\"dark1\")"
   ]
  },
  {
   "cell_type": "markdown",
   "id": "69f271af",
   "metadata": {},
   "source": [
    "With the analysis of scatter plots we have got through this pair plot, we can say that economy some pof our columns are having a good positive correlation with prices and ratings which will be helpful for us in training our model and predicting the data.\n",
    "We can also see that we are having outliers in some of our columns.\n",
    "As the data is not too much scattered we will try to use linear regression however if it would not work properly we would also go for Decision tree and Random forest."
   ]
  },
  {
   "cell_type": "code",
   "execution_count": 94,
   "id": "668897ce",
   "metadata": {},
   "outputs": [
    {
     "data": {
      "image/png": "[encoded data removed]",
      "text/plain": [
       "<Figure size 1000x400 with 2 Axes>"
      ]
     },
     "metadata": {},
     "output_type": "display_data"
    }
   ],
   "source": [
    "plt.figure(figsize=(10, 4))\n",
    "plt.subplot(1, 2, 1)\n",
    "plt.hist(df1['prices'], bins=20, edgecolor=\"black\")\n",
    "plt.xlabel('Price')\n",
    "plt.ylabel('Frequency')\n",
    "plt.subplot(1, 2, 2)\n",
    "plt.hist(df1['ratings'], bins=10, edgecolor=\"black\")\n",
    "plt.xlabel('Rating')\n",
    "plt.ylabel('Frequency')\n",
    "plt.show()"
   ]
  },
  {
   "cell_type": "markdown",
   "id": "20ef624f",
   "metadata": {},
   "source": [
    "With the help of above graph we can see that our maximum shoes is having price around $ 80 to $100 and maximum ratings are between 4.3 to 4.7"
   ]
  },
  {
   "cell_type": "code",
   "execution_count": 96,
   "id": "55ddb9d0",
   "metadata": {},
   "outputs": [
    {
     "data": {
      "image/png": "[encoded data removed]",
      "text/plain": [
       "<Figure size 800x600 with 1 Axes>"
      ]
     },
     "metadata": {},
     "output_type": "display_data"
    }
   ],
   "source": [
    "#Let's make a seperate scatter plot for price and ratings\n",
    "plt.figure(figsize=(8, 6))\n",
    "plt.scatter(df1['ratings'], df1['prices'])\n",
    "plt.xlabel('Rating')\n",
    "plt.ylabel('Price')\n",
    "plt.show()"
   ]
  },
  {
   "cell_type": "markdown",
   "id": "4cf62647",
   "metadata": {},
   "source": [
    "With the help of above plt we can clearly see that shoes below $ 100 is having maximum good ratings."
   ]
  },
  {
   "cell_type": "markdown",
   "id": "42cae15b",
   "metadata": {},
   "source": [
    "So here we have complete both graphiocal and non-graphical analysis of our data and got to know many points, now let's remove outliers from our data and check for skewness then we'll be ready to build a model for both prices and ratings."
   ]
  },
  {
   "cell_type": "code",
   "execution_count": 97,
   "id": "f1ea3a87",
   "metadata": {},
   "outputs": [
    {
     "data": {
      "text/plain": [
       "(array([1, 2, 3, 4, 5, 6, 7, 8, 9]),\n",
       " [Text(1, 0, 'shoe_name'),\n",
       "  Text(2, 0, 'No_of_colour'),\n",
       "  Text(3, 0, 'catagory'),\n",
       "  Text(4, 0, 'prices'),\n",
       "  Text(5, 0, 'count_of_size'),\n",
       "  Text(6, 0, 'colours'),\n",
       "  Text(7, 0, 'reviews'),\n",
       "  Text(8, 0, 'features'),\n",
       "  Text(9, 0, 'ratings')])"
      ]
     },
     "execution_count": 97,
     "metadata": {},
     "output_type": "execute_result"
    },
    {
     "data": {
      "image/png": "[encoded data removed]",
      "text/plain": [
       "<Figure size 640x480 with 1 Axes>"
      ]
     },
     "metadata": {},
     "output_type": "display_data"
    }
   ],
   "source": [
    "#first let's check outliers with the help pf boxplot\n",
    "df1.boxplot()\n",
    "plt.xticks(rotation=90)"
   ]
  },
  {
   "cell_type": "markdown",
   "id": "f00e9d16",
   "metadata": {},
   "source": [
    "With the help of above box plot we can see that we have outlier in only one column that is reviews rest all the columns are not having outlier's and we'll check it through z-score method."
   ]
  },
  {
   "cell_type": "code",
   "execution_count": 20,
   "id": "8a1d896e",
   "metadata": {},
   "outputs": [
    {
     "data": {
      "text/html": [
       "<div>\n",
       "<style scoped>\n",
       "    .dataframe tbody tr th:only-of-type {\n",
       "        vertical-align: middle;\n",
       "    }\n",
       "\n",
       "    .dataframe tbody tr th {\n",
       "        vertical-align: top;\n",
       "    }\n",
       "\n",
       "    .dataframe thead th {\n",
       "        text-align: right;\n",
       "    }\n",
       "</style>\n",
       "<table border=\"1\" class=\"dataframe\">\n",
       "  <thead>\n",
       "    <tr style=\"text-align: right;\">\n",
       "      <th></th>\n",
       "      <th>reviews</th>\n",
       "      <th>prices</th>\n",
       "    </tr>\n",
       "  </thead>\n",
       "  <tbody>\n",
       "    <tr>\n",
       "      <th>0</th>\n",
       "      <td>0.594356</td>\n",
       "      <td>0.206138</td>\n",
       "    </tr>\n",
       "    <tr>\n",
       "      <th>1</th>\n",
       "      <td>0.252826</td>\n",
       "      <td>0.100557</td>\n",
       "    </tr>\n",
       "    <tr>\n",
       "      <th>2</th>\n",
       "      <td>0.594356</td>\n",
       "      <td>0.100557</td>\n",
       "    </tr>\n",
       "    <tr>\n",
       "      <th>3</th>\n",
       "      <td>0.252826</td>\n",
       "      <td>0.206138</td>\n",
       "    </tr>\n",
       "    <tr>\n",
       "      <th>4</th>\n",
       "      <td>0.294224</td>\n",
       "      <td>0.206138</td>\n",
       "    </tr>\n",
       "    <tr>\n",
       "      <th>...</th>\n",
       "      <td>...</td>\n",
       "      <td>...</td>\n",
       "    </tr>\n",
       "    <tr>\n",
       "      <th>136</th>\n",
       "      <td>0.268350</td>\n",
       "      <td>0.817992</td>\n",
       "    </tr>\n",
       "    <tr>\n",
       "      <th>137</th>\n",
       "      <td>0.092410</td>\n",
       "      <td>1.432914</td>\n",
       "    </tr>\n",
       "    <tr>\n",
       "      <th>138</th>\n",
       "      <td>0.527085</td>\n",
       "      <td>1.634027</td>\n",
       "    </tr>\n",
       "    <tr>\n",
       "      <th>139</th>\n",
       "      <td>2.872689</td>\n",
       "      <td>2.352996</td>\n",
       "    </tr>\n",
       "    <tr>\n",
       "      <th>140</th>\n",
       "      <td>0.542609</td>\n",
       "      <td>0.511298</td>\n",
       "    </tr>\n",
       "  </tbody>\n",
       "</table>\n",
       "<p>141 rows × 2 columns</p>\n",
       "</div>"
      ],
      "text/plain": [
       "      reviews    prices\n",
       "0    0.594356  0.206138\n",
       "1    0.252826  0.100557\n",
       "2    0.594356  0.100557\n",
       "3    0.252826  0.206138\n",
       "4    0.294224  0.206138\n",
       "..        ...       ...\n",
       "136  0.268350  0.817992\n",
       "137  0.092410  1.432914\n",
       "138  0.527085  1.634027\n",
       "139  2.872689  2.352996\n",
       "140  0.542609  0.511298\n",
       "\n",
       "[141 rows x 2 columns]"
      ]
     },
     "execution_count": 20,
     "metadata": {},
     "output_type": "execute_result"
    }
   ],
   "source": [
    "#Let's find outlier with Zscore method\n",
    "outliers=df1[['reviews','prices']]\n",
    "z=np.abs(zscore(outliers))\n",
    "z"
   ]
  },
  {
   "cell_type": "code",
   "execution_count": 21,
   "id": "e44c3ed1",
   "metadata": {},
   "outputs": [
    {
     "data": {
      "text/plain": [
       "(array([ 51, 102, 103, 114, 115, 126], dtype=int64),\n",
       " array([1, 0, 0, 0, 0, 0], dtype=int64))"
      ]
     },
     "execution_count": 21,
     "metadata": {},
     "output_type": "execute_result"
    }
   ],
   "source": [
    "np.where(z>3)"
   ]
  },
  {
   "cell_type": "markdown",
   "id": "9f0c8e22",
   "metadata": {},
   "source": [
    "We have only detected one outlier in our dataset, let us also remove it to make sure we get more accurate prediction of our data."
   ]
  },
  {
   "cell_type": "code",
   "execution_count": 22,
   "id": "9e780259",
   "metadata": {},
   "outputs": [],
   "source": [
    "dff=df1[(z<3).all(axis=1)]"
   ]
  },
  {
   "cell_type": "code",
   "execution_count": 23,
   "id": "71981d4d",
   "metadata": {},
   "outputs": [
    {
     "data": {
      "text/plain": [
       "(135, 9)"
      ]
     },
     "execution_count": 23,
     "metadata": {},
     "output_type": "execute_result"
    }
   ],
   "source": [
    "dff.shape"
   ]
  },
  {
   "cell_type": "code",
   "execution_count": 24,
   "id": "d64edeb5",
   "metadata": {},
   "outputs": [],
   "source": [
    "Q1 = dff['reviews'].quantile(0.25)\n",
    "Q3 = dff['reviews'].quantile(0.75)\n",
    "IQR = Q3 - Q1\n",
    "\n",
    "\n",
    "lower_bound = Q1 - 1.5 * IQR\n",
    "upper_bound = Q3 + 1.5 * IQR\n",
    "\n",
    "df2 = dff[~((dff['reviews'] < lower_bound) | (dff['reviews'] > upper_bound))]"
   ]
  },
  {
   "cell_type": "code",
   "execution_count": 25,
   "id": "e02d2fbd",
   "metadata": {},
   "outputs": [],
   "source": [
    "Q1 = dff['prices'].quantile(0.25)\n",
    "Q3 = dff['prices'].quantile(0.75)\n",
    "IQR = Q3 - Q1\n",
    "\n",
    "\n",
    "lower_bound = Q1 - 1.5 * IQR\n",
    "upper_bound = Q3 + 1.5 * IQR\n",
    "\n",
    "df2 = dff[~((dff['prices'] < lower_bound) | (dff['prices'] > upper_bound))]"
   ]
  },
  {
   "cell_type": "code",
   "execution_count": 26,
   "id": "1b7e4562",
   "metadata": {},
   "outputs": [
    {
     "data": {
      "text/plain": [
       "(128, 9)"
      ]
     },
     "execution_count": 26,
     "metadata": {},
     "output_type": "execute_result"
    }
   ],
   "source": [
    "df2.shape"
   ]
  },
  {
   "cell_type": "markdown",
   "id": "e60b0055",
   "metadata": {},
   "source": [
    "We have tried to remove outliers with both method let's check further."
   ]
  },
  {
   "cell_type": "code",
   "execution_count": 27,
   "id": "648df863",
   "metadata": {},
   "outputs": [
    {
     "data": {
      "text/plain": [
       "shoe_name       -0.003249\n",
       "No_of_colour     1.614789\n",
       "catagory        -0.397714\n",
       "prices          -0.344483\n",
       "count_of_size   -0.158050\n",
       "colours         -0.053451\n",
       "reviews          2.028975\n",
       "features        -0.067356\n",
       "ratings         -1.027475\n",
       "dtype: float64"
      ]
     },
     "execution_count": 27,
     "metadata": {},
     "output_type": "execute_result"
    }
   ],
   "source": [
    "df2.skew()"
   ]
  },
  {
   "cell_type": "markdown",
   "id": "67f03e90",
   "metadata": {},
   "source": [
    "We can see that No_of_colour, prices and reviews are having positive skewness and ratings have negative skewness, and we have to do treatment for them."
   ]
  },
  {
   "cell_type": "code",
   "execution_count": 28,
   "id": "d31b8d3c",
   "metadata": {},
   "outputs": [],
   "source": [
    "# let's use cube root methos to remove skewness from positively skewed columns.\n",
    "df2['No_of_colour']=np.cbrt(df2['No_of_colour'])"
   ]
  },
  {
   "cell_type": "code",
   "execution_count": 36,
   "id": "93990065",
   "metadata": {},
   "outputs": [],
   "source": [
    "df2['reviews']=np.cbrt(df2['reviews'])"
   ]
  },
  {
   "cell_type": "code",
   "execution_count": 37,
   "id": "171009a5",
   "metadata": {},
   "outputs": [
    {
     "data": {
      "text/plain": [
       "shoe_name       -0.003249\n",
       "No_of_colour     0.730810\n",
       "catagory        -0.397714\n",
       "prices          -0.344483\n",
       "count_of_size   -0.158050\n",
       "colours         -0.053451\n",
       "reviews          0.694422\n",
       "features        -0.067356\n",
       "ratings         -0.033255\n",
       "dtype: float64"
      ]
     },
     "execution_count": 37,
     "metadata": {},
     "output_type": "execute_result"
    }
   ],
   "source": [
    "df2.skew()"
   ]
  },
  {
   "cell_type": "markdown",
   "id": "3ecb5134",
   "metadata": {},
   "source": [
    "Perfect! we have successfully removed skewness from our positively skewed columns now let's do treatment for rating which is negatively skewed."
   ]
  },
  {
   "cell_type": "code",
   "execution_count": 31,
   "id": "a3c32893",
   "metadata": {},
   "outputs": [],
   "source": [
    "from scipy import stats"
   ]
  },
  {
   "cell_type": "code",
   "execution_count": 32,
   "id": "ba6849db",
   "metadata": {},
   "outputs": [],
   "source": [
    "transformed_data, lambda_value = stats.boxcox(df2['ratings'])"
   ]
  },
  {
   "cell_type": "code",
   "execution_count": 33,
   "id": "9bd8d1c7",
   "metadata": {},
   "outputs": [],
   "source": [
    "df2['ratings'] = transformed_data\n"
   ]
  },
  {
   "cell_type": "code",
   "execution_count": 38,
   "id": "934bb27f",
   "metadata": {},
   "outputs": [
    {
     "data": {
      "text/plain": [
       "shoe_name       -0.003249\n",
       "No_of_colour     0.730810\n",
       "catagory        -0.397714\n",
       "prices          -0.344483\n",
       "count_of_size   -0.158050\n",
       "colours         -0.053451\n",
       "reviews          0.694422\n",
       "features        -0.067356\n",
       "ratings         -0.033255\n",
       "dtype: float64"
      ]
     },
     "execution_count": 38,
     "metadata": {},
     "output_type": "execute_result"
    }
   ],
   "source": [
    "#Let's check skewnesss now\n",
    "df2.skew()"
   ]
  },
  {
   "cell_type": "markdown",
   "id": "c5a163ad",
   "metadata": {},
   "source": [
    "Brilliant!\n",
    "\n",
    "Here we go - Everyting has been done which we need to do in datapreprocessing let's Summarize.\n",
    "\n",
    "First we have imported our different dataframes and combined them, understod different components and factor affeting our target variable.\n",
    "\n",
    "Also changed our catagorical columns into numerical to fit them in our model and work with them.\n",
    "\n",
    "We've done different kinds of non grahical EDA to get more insights from dataset.\n",
    "\n",
    "Then we went for graphical analysis of our data which helped us to get more visualised information and insights.\n",
    "\n",
    "After which we came to data preprocessing in which we've checked outliers by box plot and removed it with the help of Z score method.\n",
    "\n",
    "As a final stpe we've've checked for skewness in our data and also removed it by squareroot method available in numpy and boxcox method available in stats.\n",
    "\n",
    "Now lets split and fit values to get result by checking different models for prediction of prices then we'll move forward for ratings."
   ]
  },
  {
   "cell_type": "code",
   "execution_count": null,
   "id": "062ea92c",
   "metadata": {},
   "outputs": [],
   "source": []
  },
  {
   "cell_type": "code",
   "execution_count": 46,
   "id": "4a70400a",
   "metadata": {},
   "outputs": [],
   "source": [
    "#Let's split our data in features and target first then we will keep it in X and Y variable\n",
    "\n",
    "features = ['shoe_name','catagory','No_of_colour', 'count_of_size','colours', 'reviews','features','prices']\n",
    "target = 'ratings'"
   ]
  },
  {
   "cell_type": "code",
   "execution_count": 47,
   "id": "750a403a",
   "metadata": {},
   "outputs": [],
   "source": [
    "x = df2[features]\n",
    "y = df2[target]"
   ]
  },
  {
   "cell_type": "code",
   "execution_count": 48,
   "id": "d1a8956c",
   "metadata": {},
   "outputs": [
    {
     "name": "stdout",
     "output_type": "stream",
     "text": [
      "dimension of indendent variable: (128, 8)\n",
      "dimension of dependent variable: (128,)\n"
     ]
    }
   ],
   "source": [
    "print('dimension of indendent variable:',x.shape)\n",
    "print('dimension of dependent variable:',y.shape)"
   ]
  },
  {
   "cell_type": "markdown",
   "id": "8e82dc4a",
   "metadata": {},
   "source": [
    "We can see that our features varibale that is X is having 136 rows and 8 column, and target variable that is Y is also having 136 rows however only 1 column that is prices because it is our target variable, which means we are going good till now, let's find best random state now after importing neccessary libraries."
   ]
  },
  {
   "cell_type": "code",
   "execution_count": 49,
   "id": "0ccb71c5",
   "metadata": {},
   "outputs": [],
   "source": [
    "from sklearn.model_selection import train_test_split\n",
    "from sklearn.metrics import mean_absolute_error\n",
    "from sklearn.metrics import mean_squared_error\n",
    "from sklearn.metrics import r2_score\n",
    "from sklearn.linear_model import LinearRegression\n",
    "from sklearn.tree import DecisionTreeRegressor"
   ]
  },
  {
   "cell_type": "code",
   "execution_count": 50,
   "id": "14315d71",
   "metadata": {},
   "outputs": [
    {
     "name": "stdout",
     "output_type": "stream",
     "text": [
      "maximum r2 score is  0.13808501652860705 on Randome_state 0\n"
     ]
    }
   ],
   "source": [
    "maxAccu=0\n",
    "maxRS=0\n",
    "for i in range(1,200):\n",
    "    x_train,x_test,y_train,y_test= train_test_split(x,y,test_size =0.30, random_state = i)\n",
    "    lr=LinearRegression()\n",
    "    lr.fit(x_train, y_train)\n",
    "    pred= lr.predict(x_test)\n",
    "    acc=r2_score(y_test, pred)\n",
    "    if acc>maxAccu:\n",
    "        maxAccu=acc\n",
    "        maxRs=i\n",
    "print(\"maximum r2 score is \", maxAccu,\"on Randome_state\",maxRS)        "
   ]
  },
  {
   "cell_type": "code",
   "execution_count": 51,
   "id": "57c3757f",
   "metadata": {},
   "outputs": [],
   "source": [
    "x_train,x_test,y_train,y_test= train_test_split(x,y,test_size =0.30, random_state = maxRS)"
   ]
  },
  {
   "cell_type": "code",
   "execution_count": 52,
   "id": "94df98bd",
   "metadata": {},
   "outputs": [
    {
     "name": "stdout",
     "output_type": "stream",
     "text": [
      "R2 score: -0.5525256059790904\n",
      "R2 score on training Data: 100.0\n",
      "Mean Absolute Error: 977.3831523709467\n",
      "Mean Squared Error: 1465614.7029720973\n",
      "Root Mean Squared Error: 1210.6257485168971\n"
     ]
    }
   ],
   "source": [
    "from sklearn.tree import DecisionTreeRegressor\n",
    "dtr=DecisionTreeRegressor()\n",
    "dtr.fit(x_train,y_train)\n",
    "pred_DTR=dtr.predict (x_test)\n",
    "pred_train=dtr.predict(x_train)\n",
    "print ('R2 score:',r2_score(y_test,pred_DTR))\n",
    "print ('R2 score on training Data:',r2_score(y_train,pred_train) *100)\n",
    "print('Mean Absolute Error:',mean_absolute_error(y_test, pred_DTR))\n",
    "print('Mean Squared Error:',mean_squared_error(y_test, pred_DTR))\n",
    "print (\"Root Mean Squared Error:\",np.sqrt(mean_squared_error(y_test, pred_DTR)))"
   ]
  },
  {
   "cell_type": "code",
   "execution_count": 181,
   "id": "77c89288",
   "metadata": {},
   "outputs": [
    {
     "name": "stdout",
     "output_type": "stream",
     "text": [
      "R2 score: -0.2961388754916896\n",
      "R2 score on training Data: 83.17974235148358\n",
      "Mean Absolute Error: 890.2051321323656\n",
      "Mean Squared Error: 1312887.490396996\n",
      "Root Mean Squared Error: 1145.8130259326763\n"
     ]
    }
   ],
   "source": [
    "from sklearn.ensemble import RandomForestRegressor\n",
    "rfr=RandomForestRegressor()\n",
    "rfr.fit(x_train,y_train)\n",
    "pred_RFR=rfr.predict (x_test)\n",
    "pred_train=rfr.predict(x_train)\n",
    "print ('R2 score:',r2_score(y_test,pred_RFR))\n",
    "print ('R2 score on training Data:',r2_score(y_train,pred_train) *100)\n",
    "print('Mean Absolute Error:',mean_absolute_error(y_test, pred_RFR))\n",
    "print('Mean Squared Error:',mean_squared_error(y_test, pred_RFR))\n",
    "print (\"Root Mean Squared Error:\",np.sqrt(mean_squared_error(y_test, pred_RFR)))"
   ]
  },
  {
   "cell_type": "markdown",
   "id": "9edc4609",
   "metadata": {},
   "source": [
    "It seems there is overfitting in our model, and for that we'll use Lasso and Ridge models further and I am also checking preprocessing once again here."
   ]
  },
  {
   "cell_type": "markdown",
   "id": "4724505c",
   "metadata": {},
   "source": [
    "I have again checked preprocessing and removed outliers with interquartile range now let's check Ridge and Lasso further."
   ]
  },
  {
   "cell_type": "code",
   "execution_count": 182,
   "id": "3d93f1b0",
   "metadata": {},
   "outputs": [
    {
     "name": "stdout",
     "output_type": "stream",
     "text": [
      "R2 score: -0.3219110913944425\n",
      "R2 score on training Data: 100.0\n",
      "Mean Absolute Error: 880.8760858975121\n",
      "Mean Squared Error: 1338992.733051414\n",
      "Root Mean Squared Error: 1157.1485354315641\n"
     ]
    }
   ],
   "source": [
    "from sklearn.ensemble import ExtraTreesRegressor\n",
    "etr=ExtraTreesRegressor()\n",
    "etr.fit(x_train,y_train)\n",
    "pred_ETR=etr.predict (x_test)\n",
    "pred_train=etr.predict(x_train)\n",
    "print ('R2 score:',r2_score(y_test,pred_ETR))\n",
    "print ('R2 score on training Data:',r2_score(y_train,pred_train) *100)\n",
    "print('Mean Absolute Error:',mean_absolute_error(y_test, pred_ETR))\n",
    "print('Mean Squared Error:',mean_squared_error(y_test, pred_ETR))\n",
    "print (\"Root Mean Squared Error:\",np.sqrt(mean_squared_error(y_test, pred_ETR)))"
   ]
  },
  {
   "cell_type": "code",
   "execution_count": 183,
   "id": "94cc3123",
   "metadata": {},
   "outputs": [
    {
     "name": "stdout",
     "output_type": "stream",
     "text": [
      "R2 score: -0.38765422623314616\n",
      "R2 score on training Data: 93.07686689905256\n",
      "Mean Absolute Error: 882.772712501636\n",
      "Mean Squared Error: 1405585.3960301199\n",
      "Root Mean Squared Error: 1185.573867808379\n"
     ]
    }
   ],
   "source": [
    "from sklearn.ensemble import GradientBoostingRegressor\n",
    "gbr=GradientBoostingRegressor()\n",
    "gbr.fit(x_train,y_train)\n",
    "pred_GBR=gbr.predict (x_test)\n",
    "pred_train=gbr.predict(x_train)\n",
    "print ('R2 score:',r2_score(y_test,pred_GBR))\n",
    "print ('R2 score on training Data:',r2_score(y_train,pred_train) *100)\n",
    "print('Mean Absolute Error:',mean_absolute_error(y_test, pred_GBR))\n",
    "print('Mean Squared Error:',mean_squared_error(y_test, pred_GBR))\n",
    "print (\"Root Mean Squared Error:\",np.sqrt(mean_squared_error(y_test, pred_GBR)))"
   ]
  },
  {
   "cell_type": "code",
   "execution_count": 184,
   "id": "eb11030b",
   "metadata": {},
   "outputs": [
    {
     "name": "stdout",
     "output_type": "stream",
     "text": [
      "R2 score: -0.13545433026716713\n",
      "R2 score on training Data: 10.286263505593752\n",
      "Mean Absolute Error: 802.8632384335549\n",
      "Mean Squared Error: 1150126.5908403199\n",
      "Root Mean Squared Error: 1072.4395511357832\n"
     ]
    }
   ],
   "source": [
    "from sklearn.linear_model import Ridge\n",
    "rd= Ridge()\n",
    "rd.fit(x_train,y_train)\n",
    "pred_RD=rd.predict (x_test)\n",
    "pred_train=rd.predict(x_train)\n",
    "print ('R2 score:',r2_score(y_test,pred_RD))\n",
    "print ('R2 score on training Data:',r2_score(y_train,pred_train) *100)\n",
    "print('Mean Absolute Error:',mean_absolute_error(y_test, pred_RD))\n",
    "print('Mean Squared Error:',mean_squared_error(y_test, pred_RD))\n",
    "print (\"Root Mean Squared Error:\",np.sqrt(mean_squared_error(y_test, pred_RD)))"
   ]
  },
  {
   "cell_type": "code",
   "execution_count": 186,
   "id": "bca54392",
   "metadata": {},
   "outputs": [
    {
     "name": "stdout",
     "output_type": "stream",
     "text": [
      "R2 score: -0.13542209139174477\n",
      "R2 score on training Data: 10.294409989778996\n",
      "Mean Absolute Error: 803.0101394380571\n",
      "Mean Squared Error: 1150093.935376429\n",
      "Root Mean Squared Error: 1072.4243261771103\n"
     ]
    }
   ],
   "source": [
    "from sklearn.linear_model import Lasso\n",
    "la= Lasso()\n",
    "la.fit(x_train,y_train)\n",
    "pred_LA=la.predict (x_test)\n",
    "pred_train=la.predict(x_train)\n",
    "print ('R2 score:',r2_score(y_test,pred_LA))\n",
    "print ('R2 score on training Data:',r2_score(y_train,pred_train) *100)\n",
    "print('Mean Absolute Error:',mean_absolute_error(y_test, pred_LA))\n",
    "print('Mean Squared Error:',mean_squared_error(y_test, pred_LA))\n",
    "print (\"Root Mean Squared Error:\",np.sqrt(mean_squared_error(y_test, pred_LA)))"
   ]
  },
  {
   "cell_type": "markdown",
   "id": "0c64083a",
   "metadata": {},
   "source": [
    "As we have a less number of data is is not giving good r2 score however we've followed everything possible, we will cross validate accuracy by cross validation method and by following hyper parameter tunning."
   ]
  },
  {
   "cell_type": "code",
   "execution_count": 187,
   "id": "fae734c1",
   "metadata": {},
   "outputs": [],
   "source": [
    "from sklearn.model_selection import cross_val_score"
   ]
  },
  {
   "cell_type": "code",
   "execution_count": 188,
   "id": "a3761179",
   "metadata": {},
   "outputs": [
    {
     "name": "stdout",
     "output_type": "stream",
     "text": [
      "[-3.56256947 -0.82001105 -1.02677622 -0.80693221 -0.9276232 ]\n",
      "-1.428782427808569\n",
      "Difference between R2 score and cross validation score is : 141.88028837152774\n"
     ]
    }
   ],
   "source": [
    "score = cross_val_score(dtr,x,y, cv=5, scoring='r2')\n",
    "print(score)\n",
    "print(score.mean())\n",
    "print(\"Difference between R2 score and cross validation score is :\", (r2_score(y_test,pred_DTR)-score.mean()*100))"
   ]
  },
  {
   "cell_type": "code",
   "execution_count": 189,
   "id": "f42d0321",
   "metadata": {},
   "outputs": [
    {
     "name": "stdout",
     "output_type": "stream",
     "text": [
      "[-0.38484173 -0.34308849 -0.17936711 -0.13697883 -0.50964785]\n",
      "-0.31078480182363183\n",
      "Difference between R2 score and cross validation score is : 30.782341306871494\n"
     ]
    }
   ],
   "source": [
    "score = cross_val_score(rfr,x,y)\n",
    "print(score)\n",
    "print(score.mean())\n",
    "print(\"Difference between R2 score and cross validation score is :\", (r2_score(y_test,pred_RFR)-score.mean()*100))"
   ]
  },
  {
   "cell_type": "code",
   "execution_count": 190,
   "id": "2276dde7",
   "metadata": {},
   "outputs": [
    {
     "name": "stdout",
     "output_type": "stream",
     "text": [
      "[-0.5854372  -0.24939694 -0.23004514 -0.15514325 -0.60095992]\n",
      "-0.3641964914752046\n",
      "Difference between R2 score and cross validation score is : 36.09773805612602\n"
     ]
    }
   ],
   "source": [
    "score = cross_val_score(etr,x,y)\n",
    "print(score)\n",
    "print(score.mean())\n",
    "print(\"Difference between R2 score and cross validation score is :\", (r2_score(y_test,pred_ETR)-score.mean()*100))"
   ]
  },
  {
   "cell_type": "code",
   "execution_count": 191,
   "id": "eb3248b1",
   "metadata": {},
   "outputs": [
    {
     "name": "stdout",
     "output_type": "stream",
     "text": [
      "[-0.60853341 -0.68267385 -0.60079199  0.02353058 -0.48885236]\n",
      "-0.47146420615250617\n",
      "Difference between R2 score and cross validation score is : 46.758766389017474\n"
     ]
    }
   ],
   "source": [
    "score = cross_val_score(gbr,x,y)\n",
    "print(score)\n",
    "print(score.mean())\n",
    "print(\"Difference between R2 score and cross validation score is :\", (r2_score(y_test,pred_GBR)-score.mean()*100))"
   ]
  },
  {
   "cell_type": "code",
   "execution_count": 192,
   "id": "0f76bb4a",
   "metadata": {},
   "outputs": [
    {
     "name": "stdout",
     "output_type": "stream",
     "text": [
      "[ 0.17504695 -0.10304079 -0.08557052 -0.02418134 -0.33541281]\n",
      "-0.07463170173855245\n",
      "Difference between R2 score and cross validation score is : 7.327715843588077\n"
     ]
    }
   ],
   "source": [
    "score = cross_val_score(rd,x,y)\n",
    "print(score)\n",
    "print(score.mean())\n",
    "print(\"Difference between R2 score and cross validation score is :\", (r2_score(y_test,pred_RD)-score.mean()*100))"
   ]
  },
  {
   "cell_type": "code",
   "execution_count": 193,
   "id": "61e6e816",
   "metadata": {},
   "outputs": [
    {
     "name": "stdout",
     "output_type": "stream",
     "text": [
      "[ 0.17496132 -0.10744523 -0.08437939 -0.02387277 -0.33586761]\n",
      "-0.0753207374343535\n",
      "Difference between R2 score and cross validation score is : 7.396651652043604\n"
     ]
    }
   ],
   "source": [
    "score = cross_val_score(la,x,y)\n",
    "print(score)\n",
    "print(score.mean())\n",
    "print(\"Difference between R2 score and cross validation score is :\", (r2_score(y_test,pred_LA)-score.mean()*100))"
   ]
  },
  {
   "cell_type": "markdown",
   "id": "62fada22",
   "metadata": {},
   "source": [
    "We can see that our prediction is working well in Ridge model and able to predict best data."
   ]
  },
  {
   "cell_type": "code",
   "execution_count": 194,
   "id": "05f6ee99",
   "metadata": {},
   "outputs": [],
   "source": [
    "#Lets test our data by grid search\n",
    "from sklearn.model_selection import GridSearchCV"
   ]
  },
  {
   "cell_type": "code",
   "execution_count": 195,
   "id": "6db818ac",
   "metadata": {},
   "outputs": [
    {
     "data": {
      "text/html": [
       "<style>#sk-container-id-1 {color: black;background-color: white;}#sk-container-id-1 pre{padding: 0;}#sk-container-id-1 div.sk-toggleable {background-color: white;}#sk-container-id-1 label.sk-toggleable__label {cursor: pointer;display: block;width: 100%;margin-bottom: 0;padding: 0.3em;box-sizing: border-box;text-align: center;}#sk-container-id-1 label.sk-toggleable__label-arrow:before {content: \"▸\";float: left;margin-right: 0.25em;color: #696969;}#sk-container-id-1 label.sk-toggleable__label-arrow:hover:before {color: black;}#sk-container-id-1 div.sk-estimator:hover label.sk-toggleable__label-arrow:before {color: black;}#sk-container-id-1 div.sk-toggleable__content {max-height: 0;max-width: 0;overflow: hidden;text-align: left;background-color: #f0f8ff;}#sk-container-id-1 div.sk-toggleable__content pre {margin: 0.2em;color: black;border-radius: 0.25em;background-color: #f0f8ff;}#sk-container-id-1 input.sk-toggleable__control:checked~div.sk-toggleable__content {max-height: 200px;max-width: 100%;overflow: auto;}#sk-container-id-1 input.sk-toggleable__control:checked~label.sk-toggleable__label-arrow:before {content: \"▾\";}#sk-container-id-1 div.sk-estimator input.sk-toggleable__control:checked~label.sk-toggleable__label {background-color: #d4ebff;}#sk-container-id-1 div.sk-label input.sk-toggleable__control:checked~label.sk-toggleable__label {background-color: #d4ebff;}#sk-container-id-1 input.sk-hidden--visually {border: 0;clip: rect(1px 1px 1px 1px);clip: rect(1px, 1px, 1px, 1px);height: 1px;margin: -1px;overflow: hidden;padding: 0;position: absolute;width: 1px;}#sk-container-id-1 div.sk-estimator {font-family: monospace;background-color: #f0f8ff;border: 1px dotted black;border-radius: 0.25em;box-sizing: border-box;margin-bottom: 0.5em;}#sk-container-id-1 div.sk-estimator:hover {background-color: #d4ebff;}#sk-container-id-1 div.sk-parallel-item::after {content: \"\";width: 100%;border-bottom: 1px solid gray;flex-grow: 1;}#sk-container-id-1 div.sk-label:hover label.sk-toggleable__label {background-color: #d4ebff;}#sk-container-id-1 div.sk-serial::before {content: \"\";position: absolute;border-left: 1px solid gray;box-sizing: border-box;top: 0;bottom: 0;left: 50%;z-index: 0;}#sk-container-id-1 div.sk-serial {display: flex;flex-direction: column;align-items: center;background-color: white;padding-right: 0.2em;padding-left: 0.2em;position: relative;}#sk-container-id-1 div.sk-item {position: relative;z-index: 1;}#sk-container-id-1 div.sk-parallel {display: flex;align-items: stretch;justify-content: center;background-color: white;position: relative;}#sk-container-id-1 div.sk-item::before, #sk-container-id-1 div.sk-parallel-item::before {content: \"\";position: absolute;border-left: 1px solid gray;box-sizing: border-box;top: 0;bottom: 0;left: 50%;z-index: -1;}#sk-container-id-1 div.sk-parallel-item {display: flex;flex-direction: column;z-index: 1;position: relative;background-color: white;}#sk-container-id-1 div.sk-parallel-item:first-child::after {align-self: flex-end;width: 50%;}#sk-container-id-1 div.sk-parallel-item:last-child::after {align-self: flex-start;width: 50%;}#sk-container-id-1 div.sk-parallel-item:only-child::after {width: 0;}#sk-container-id-1 div.sk-dashed-wrapped {border: 1px dashed gray;margin: 0 0.4em 0.5em 0.4em;box-sizing: border-box;padding-bottom: 0.4em;background-color: white;}#sk-container-id-1 div.sk-label label {font-family: monospace;font-weight: bold;display: inline-block;line-height: 1.2em;}#sk-container-id-1 div.sk-label-container {text-align: center;}#sk-container-id-1 div.sk-container {/* jupyter's `normalize.less` sets `[hidden] { display: none; }` but bootstrap.min.css set `[hidden] { display: none !important; }` so we also need the `!important` here to be able to override the default hidden behavior on the sphinx rendered scikit-learn.org. See: https://github.com/scikit-learn/scikit-learn/issues/21755 */display: inline-block !important;position: relative;}#sk-container-id-1 div.sk-text-repr-fallback {display: none;}</style><div id=\"sk-container-id-1\" class=\"sk-top-container\"><div class=\"sk-text-repr-fallback\"><pre>GridSearchCV(cv=5, estimator=Ridge(),\n",
       "             param_grid={&#x27;alpha&#x27;: [1.0, 0.05, 0.4, 2],\n",
       "                         &#x27;fit_intercept&#x27;: [True, False],\n",
       "                         &#x27;positive&#x27;: [False, True],\n",
       "                         &#x27;random_state&#x27;: [1, 4, 10, 20],\n",
       "                         &#x27;solver&#x27;: [&#x27;auto&#x27;, &#x27;svd&#x27;, &#x27;cholesky&#x27;, &#x27;lsqr&#x27;, &#x27;sag&#x27;,\n",
       "                                    &#x27;lbfgs&#x27;]})</pre><b>In a Jupyter environment, please rerun this cell to show the HTML representation or trust the notebook. <br />On GitHub, the HTML representation is unable to render, please try loading this page with nbviewer.org.</b></div><div class=\"sk-container\" hidden><div class=\"sk-item sk-dashed-wrapped\"><div class=\"sk-label-container\"><div class=\"sk-label sk-toggleable\"><input class=\"sk-toggleable__control sk-hidden--visually\" id=\"sk-estimator-id-1\" type=\"checkbox\" ><label for=\"sk-estimator-id-1\" class=\"sk-toggleable__label sk-toggleable__label-arrow\">GridSearchCV</label><div class=\"sk-toggleable__content\"><pre>GridSearchCV(cv=5, estimator=Ridge(),\n",
       "             param_grid={&#x27;alpha&#x27;: [1.0, 0.05, 0.4, 2],\n",
       "                         &#x27;fit_intercept&#x27;: [True, False],\n",
       "                         &#x27;positive&#x27;: [False, True],\n",
       "                         &#x27;random_state&#x27;: [1, 4, 10, 20],\n",
       "                         &#x27;solver&#x27;: [&#x27;auto&#x27;, &#x27;svd&#x27;, &#x27;cholesky&#x27;, &#x27;lsqr&#x27;, &#x27;sag&#x27;,\n",
       "                                    &#x27;lbfgs&#x27;]})</pre></div></div></div><div class=\"sk-parallel\"><div class=\"sk-parallel-item\"><div class=\"sk-item\"><div class=\"sk-label-container\"><div class=\"sk-label sk-toggleable\"><input class=\"sk-toggleable__control sk-hidden--visually\" id=\"sk-estimator-id-2\" type=\"checkbox\" ><label for=\"sk-estimator-id-2\" class=\"sk-toggleable__label sk-toggleable__label-arrow\">estimator: Ridge</label><div class=\"sk-toggleable__content\"><pre>Ridge()</pre></div></div></div><div class=\"sk-serial\"><div class=\"sk-item\"><div class=\"sk-estimator sk-toggleable\"><input class=\"sk-toggleable__control sk-hidden--visually\" id=\"sk-estimator-id-3\" type=\"checkbox\" ><label for=\"sk-estimator-id-3\" class=\"sk-toggleable__label sk-toggleable__label-arrow\">Ridge</label><div class=\"sk-toggleable__content\"><pre>Ridge()</pre></div></div></div></div></div></div></div></div></div></div>"
      ],
      "text/plain": [
       "GridSearchCV(cv=5, estimator=Ridge(),\n",
       "             param_grid={'alpha': [1.0, 0.05, 0.4, 2],\n",
       "                         'fit_intercept': [True, False],\n",
       "                         'positive': [False, True],\n",
       "                         'random_state': [1, 4, 10, 20],\n",
       "                         'solver': ['auto', 'svd', 'cholesky', 'lsqr', 'sag',\n",
       "                                    'lbfgs']})"
      ]
     },
     "execution_count": 195,
     "metadata": {},
     "output_type": "execute_result"
    }
   ],
   "source": [
    "param={'alpha':[1.0,.05,.4,2],'fit_intercept':[True,False],\n",
    "       'solver':['auto','svd','cholesky','lsqr','sag','lbfgs'],\n",
    "       'positive':[False,True],\n",
    "       'random_state':[1,4,10,20]}\n",
    "gscv=GridSearchCV(Ridge(),param,cv=5)\n",
    "gscv.fit(x_train,y_train)"
   ]
  },
  {
   "cell_type": "code",
   "execution_count": 196,
   "id": "f5fbbc43",
   "metadata": {},
   "outputs": [
    {
     "data": {
      "text/plain": [
       "{'alpha': 2,\n",
       " 'fit_intercept': True,\n",
       " 'positive': False,\n",
       " 'random_state': 4,\n",
       " 'solver': 'sag'}"
      ]
     },
     "execution_count": 196,
     "metadata": {},
     "output_type": "execute_result"
    }
   ],
   "source": [
    "gscv.best_params_"
   ]
  },
  {
   "cell_type": "code",
   "execution_count": 197,
   "id": "30b75a9c",
   "metadata": {},
   "outputs": [],
   "source": [
    "Model=Ridge(alpha=2,fit_intercept=True,positive=False,random_state=4,solver='sag')"
   ]
  },
  {
   "cell_type": "code",
   "execution_count": 198,
   "id": "5d55eff7",
   "metadata": {},
   "outputs": [
    {
     "name": "stdout",
     "output_type": "stream",
     "text": [
      "R2 score: -0.13374845786543088\n",
      "Mean Absolute Error: 801.7128449536775\n",
      "Mean Squared Error: 1148398.6752760229\n",
      "Root Mean Squared Error: 1071.6336478834653\n"
     ]
    }
   ],
   "source": [
    "Model.fit(x_train,y_train)\n",
    "pred=Model.predict (x_test)\n",
    "print ('R2 score:',r2_score(y_test,pred))\n",
    "print('Mean Absolute Error:',mean_absolute_error(y_test, pred))\n",
    "print('Mean Squared Error:',mean_squared_error(y_test, pred))\n",
    "print (\"Root Mean Squared Error:\",np.sqrt(mean_squared_error(y_test, pred)))"
   ]
  },
  {
   "cell_type": "code",
   "execution_count": 229,
   "id": "757d06ef",
   "metadata": {},
   "outputs": [],
   "source": [
    "import pickle\n",
    "filename='ratings_Shoe.pkl'\n",
    "pickle.dump(Model,open(filename,'wb'))"
   ]
  },
  {
   "cell_type": "markdown",
   "id": "181791da",
   "metadata": {},
   "source": [
    "Now let's predict price with the same model, it is just giving low accuracy because of less data."
   ]
  },
  {
   "cell_type": "code",
   "execution_count": 199,
   "id": "16772471",
   "metadata": {},
   "outputs": [],
   "source": [
    "features = ['shoe_name', 'catagory','No_of_colour', 'count_of_size','colours', 'reviews','features','ratings']\n",
    "target = 'prices'"
   ]
  },
  {
   "cell_type": "code",
   "execution_count": 200,
   "id": "88dd4428",
   "metadata": {},
   "outputs": [],
   "source": [
    "x = df2[features]\n",
    "y = df2[target]"
   ]
  },
  {
   "cell_type": "code",
   "execution_count": 201,
   "id": "e6cda9f7",
   "metadata": {},
   "outputs": [
    {
     "name": "stdout",
     "output_type": "stream",
     "text": [
      "dimension of indendent variable: (139, 8)\n",
      "dimension of dependent variable: (139,)\n"
     ]
    }
   ],
   "source": [
    "print('dimension of indendent variable:',x.shape)\n",
    "print('dimension of dependent variable:',y.shape)"
   ]
  },
  {
   "cell_type": "code",
   "execution_count": 202,
   "id": "be0d65a2",
   "metadata": {},
   "outputs": [
    {
     "name": "stdout",
     "output_type": "stream",
     "text": [
      "maximum r2 score is  0.11655652374817427 on Randome_state 0\n"
     ]
    }
   ],
   "source": [
    "maxAccu=0\n",
    "maxRS=0\n",
    "for i in range(1,200):\n",
    "    x_train,x_test,y_train,y_test= train_test_split(x,y,test_size =0.30, random_state = i)\n",
    "    lr=LinearRegression()\n",
    "    lr.fit(x_train, y_train)\n",
    "    pred= lr.predict(x_test)\n",
    "    acc=r2_score(y_test, pred)\n",
    "    if acc>maxAccu:\n",
    "        maxAccu=acc\n",
    "        maxRs=i\n",
    "print(\"maximum r2 score is \", maxAccu,\"on Randome_state\",maxRS)        "
   ]
  },
  {
   "cell_type": "code",
   "execution_count": 203,
   "id": "ad9a3c9f",
   "metadata": {},
   "outputs": [],
   "source": [
    "x_train,x_test,y_train,y_test= train_test_split(x,y,test_size =0.30, random_state = maxRS)"
   ]
  },
  {
   "cell_type": "code",
   "execution_count": 204,
   "id": "51524e68",
   "metadata": {},
   "outputs": [
    {
     "name": "stdout",
     "output_type": "stream",
     "text": [
      "R2 score: -0.8550709973605186\n",
      "R2 score on training Data: 100.0\n",
      "Mean Absolute Error: 23.001190476190477\n",
      "Mean Squared Error: 1080.6550595238095\n",
      "Root Mean Squared Error: 32.87331835278893\n"
     ]
    }
   ],
   "source": [
    "from sklearn.tree import DecisionTreeRegressor\n",
    "dtr=DecisionTreeRegressor()\n",
    "dtr.fit(x_train,y_train)\n",
    "pred_DTR=dtr.predict (x_test)\n",
    "pred_train=dtr.predict(x_train)\n",
    "print ('R2 score:',r2_score(y_test,pred_DTR))\n",
    "print ('R2 score on training Data:',r2_score(y_train,pred_train) *100)\n",
    "print('Mean Absolute Error:',mean_absolute_error(y_test, pred_DTR))\n",
    "print('Mean Squared Error:',mean_squared_error(y_test, pred_DTR))\n",
    "print (\"Root Mean Squared Error:\",np.sqrt(mean_squared_error(y_test, pred_DTR)))"
   ]
  },
  {
   "cell_type": "code",
   "execution_count": 205,
   "id": "cce55cbb",
   "metadata": {},
   "outputs": [
    {
     "name": "stdout",
     "output_type": "stream",
     "text": [
      "R2 score: 0.00206512260036551\n",
      "R2 score on training Data: 81.3595742617357\n",
      "Mean Absolute Error: 18.85267857142857\n",
      "Mean Squared Error: 581.3380597678572\n",
      "Root Mean Squared Error: 24.110953107827513\n"
     ]
    }
   ],
   "source": [
    "from sklearn.ensemble import RandomForestRegressor\n",
    "rfr=RandomForestRegressor()\n",
    "rfr.fit(x_train,y_train)\n",
    "pred_RFR=rfr.predict (x_test)\n",
    "pred_train=rfr.predict(x_train)\n",
    "print ('R2 score:',r2_score(y_test,pred_RFR))\n",
    "print ('R2 score on training Data:',r2_score(y_train,pred_train) *100)\n",
    "print('Mean Absolute Error:',mean_absolute_error(y_test, pred_RFR))\n",
    "print('Mean Squared Error:',mean_squared_error(y_test, pred_RFR))\n",
    "print (\"Root Mean Squared Error:\",np.sqrt(mean_squared_error(y_test, pred_RFR)))"
   ]
  },
  {
   "cell_type": "code",
   "execution_count": 206,
   "id": "420fbd81",
   "metadata": {},
   "outputs": [
    {
     "name": "stdout",
     "output_type": "stream",
     "text": [
      "R2 score: -0.013610108426049372\n",
      "R2 score on training Data: 100.0\n",
      "Mean Absolute Error: 19.228273809523813\n",
      "Mean Squared Error: 590.4695257559525\n",
      "Root Mean Squared Error: 24.29957871560642\n"
     ]
    }
   ],
   "source": [
    "from sklearn.ensemble import ExtraTreesRegressor\n",
    "etr=ExtraTreesRegressor()\n",
    "etr.fit(x_train,y_train)\n",
    "pred_ETR=etr.predict (x_test)\n",
    "pred_train=etr.predict(x_train)\n",
    "print ('R2 score:',r2_score(y_test,pred_ETR))\n",
    "print ('R2 score on training Data:',r2_score(y_train,pred_train) *100)\n",
    "print('Mean Absolute Error:',mean_absolute_error(y_test, pred_ETR))\n",
    "print('Mean Squared Error:',mean_squared_error(y_test, pred_ETR))\n",
    "print (\"Root Mean Squared Error:\",np.sqrt(mean_squared_error(y_test, pred_ETR)))"
   ]
  },
  {
   "cell_type": "code",
   "execution_count": 207,
   "id": "1fb941f0",
   "metadata": {},
   "outputs": [
    {
     "name": "stdout",
     "output_type": "stream",
     "text": [
      "R2 score: -0.40844097908154775\n",
      "R2 score on training Data: 94.03352281909858\n",
      "Mean Absolute Error: 20.908286122738122\n",
      "Mean Squared Error: 820.47472697852\n",
      "Root Mean Squared Error: 28.643930019788137\n"
     ]
    }
   ],
   "source": [
    "from sklearn.ensemble import GradientBoostingRegressor\n",
    "gbr=GradientBoostingRegressor()\n",
    "gbr.fit(x_train,y_train)\n",
    "pred_GBR=gbr.predict (x_test)\n",
    "pred_train=gbr.predict(x_train)\n",
    "print ('R2 score:',r2_score(y_test,pred_GBR))\n",
    "print ('R2 score on training Data:',r2_score(y_train,pred_train) *100)\n",
    "print('Mean Absolute Error:',mean_absolute_error(y_test, pred_GBR))\n",
    "print('Mean Squared Error:',mean_squared_error(y_test, pred_GBR))\n",
    "print (\"Root Mean Squared Error:\",np.sqrt(mean_squared_error(y_test, pred_GBR)))"
   ]
  },
  {
   "cell_type": "code",
   "execution_count": 208,
   "id": "80ca6baf",
   "metadata": {},
   "outputs": [
    {
     "name": "stdout",
     "output_type": "stream",
     "text": [
      "R2 score: -0.062143419182676185\n",
      "R2 score on training Data: 7.513959229969924\n",
      "Mean Absolute Error: 19.28394964789889\n",
      "Mean Squared Error: 618.7421729480089\n",
      "Root Mean Squared Error: 24.87452859750329\n"
     ]
    }
   ],
   "source": [
    "from sklearn.linear_model import Ridge\n",
    "rd= Ridge()\n",
    "rd.fit(x_train,y_train)\n",
    "pred_RD=rd.predict (x_test)\n",
    "pred_train=rd.predict(x_train)\n",
    "print ('R2 score:',r2_score(y_test,pred_RD))\n",
    "print ('R2 score on training Data:',r2_score(y_train,pred_train) *100)\n",
    "print('Mean Absolute Error:',mean_absolute_error(y_test, pred_RD))\n",
    "print('Mean Squared Error:',mean_squared_error(y_test, pred_RD))\n",
    "print (\"Root Mean Squared Error:\",np.sqrt(mean_squared_error(y_test, pred_RD)))"
   ]
  },
  {
   "cell_type": "code",
   "execution_count": 209,
   "id": "999808a6",
   "metadata": {},
   "outputs": [
    {
     "name": "stdout",
     "output_type": "stream",
     "text": [
      "R2 score: -0.020370829383582256\n",
      "R2 score on training Data: 6.5710962278319744\n",
      "Mean Absolute Error: 18.78813751315582\n",
      "Mean Squared Error: 594.407923434091\n",
      "Root Mean Squared Error: 24.38048242824762\n"
     ]
    }
   ],
   "source": [
    "from sklearn.linear_model import Lasso\n",
    "la= Lasso()\n",
    "la.fit(x_train,y_train)\n",
    "pred_LA=la.predict (x_test)\n",
    "pred_train=la.predict(x_train)\n",
    "print ('R2 score:',r2_score(y_test,pred_LA))\n",
    "print ('R2 score on training Data:',r2_score(y_train,pred_train) *100)\n",
    "print('Mean Absolute Error:',mean_absolute_error(y_test, pred_LA))\n",
    "print('Mean Squared Error:',mean_squared_error(y_test, pred_LA))\n",
    "print (\"Root Mean Squared Error:\",np.sqrt(mean_squared_error(y_test, pred_LA)))"
   ]
  },
  {
   "cell_type": "markdown",
   "id": "a7668857",
   "metadata": {},
   "source": [
    "Let's perform cross validation "
   ]
  },
  {
   "cell_type": "code",
   "execution_count": 210,
   "id": "b38e1128",
   "metadata": {},
   "outputs": [],
   "source": [
    "from sklearn.model_selection import cross_val_score"
   ]
  },
  {
   "cell_type": "code",
   "execution_count": 211,
   "id": "5dc29c4b",
   "metadata": {},
   "outputs": [
    {
     "name": "stdout",
     "output_type": "stream",
     "text": [
      "[-1.60286224 -1.40129751 -1.25747247 -0.54148309 -1.23287319]\n",
      "-1.2071976983624464\n",
      "Difference between R2 score and cross validation score is : 119.86469883888412\n"
     ]
    }
   ],
   "source": [
    "score = cross_val_score(dtr,x,y, cv=5, scoring='r2')\n",
    "print(score)\n",
    "print(score.mean())\n",
    "print(\"Difference between R2 score and cross validation score is :\", (r2_score(y_test,pred_DTR)-score.mean()*100))"
   ]
  },
  {
   "cell_type": "code",
   "execution_count": 212,
   "id": "2e74dc7e",
   "metadata": {},
   "outputs": [
    {
     "name": "stdout",
     "output_type": "stream",
     "text": [
      "[-0.26420414  0.00833549 -0.05816002 -0.12374606 -0.14816471]\n",
      "-0.11718788706777299\n",
      "Difference between R2 score and cross validation score is : 11.720853829377663\n"
     ]
    }
   ],
   "source": [
    "score = cross_val_score(rfr,x,y)\n",
    "print(score)\n",
    "print(score.mean())\n",
    "print(\"Difference between R2 score and cross validation score is :\", (r2_score(y_test,pred_RFR)-score.mean()*100))"
   ]
  },
  {
   "cell_type": "code",
   "execution_count": 213,
   "id": "c722d3df",
   "metadata": {},
   "outputs": [
    {
     "name": "stdout",
     "output_type": "stream",
     "text": [
      "[-0.3953547  -0.35506475 -0.17709359 -0.27514736 -0.19348789]\n",
      "-0.279229658979331\n",
      "Difference between R2 score and cross validation score is : 27.90935578950705\n"
     ]
    }
   ],
   "source": [
    "score = cross_val_score(etr,x,y)\n",
    "print(score)\n",
    "print(score.mean())\n",
    "print(\"Difference between R2 score and cross validation score is :\", (r2_score(y_test,pred_ETR)-score.mean()*100))"
   ]
  },
  {
   "cell_type": "code",
   "execution_count": 214,
   "id": "db4c3a96",
   "metadata": {},
   "outputs": [
    {
     "name": "stdout",
     "output_type": "stream",
     "text": [
      "[-0.88205095 -0.44337524 -1.14992769 -0.51977924 -0.32301215]\n",
      "-0.6636290546349548\n",
      "Difference between R2 score and cross validation score is : 65.95446448441393\n"
     ]
    }
   ],
   "source": [
    "score = cross_val_score(gbr,x,y)\n",
    "print(score)\n",
    "print(score.mean())\n",
    "print(\"Difference between R2 score and cross validation score is :\", (r2_score(y_test,pred_GBR)-score.mean()*100))"
   ]
  },
  {
   "cell_type": "code",
   "execution_count": 215,
   "id": "253c56d0",
   "metadata": {},
   "outputs": [
    {
     "name": "stdout",
     "output_type": "stream",
     "text": [
      "[-0.00965957 -0.36764735 -0.42986623 -0.06055946 -0.02782009]\n",
      "-0.17911054172153928\n",
      "Difference between R2 score and cross validation score is : 17.848910752971253\n"
     ]
    }
   ],
   "source": [
    "score = cross_val_score(rd,x,y)\n",
    "print(score)\n",
    "print(score.mean())\n",
    "print(\"Difference between R2 score and cross validation score is :\", (r2_score(y_test,pred_RD)-score.mean()*100))"
   ]
  },
  {
   "cell_type": "code",
   "execution_count": 216,
   "id": "e395790b",
   "metadata": {},
   "outputs": [
    {
     "name": "stdout",
     "output_type": "stream",
     "text": [
      "[ 0.00352413 -0.26641435 -0.41813897 -0.03007854 -0.02034388]\n",
      "-0.1462903232492086\n",
      "Difference between R2 score and cross validation score is : 14.608661495537278\n"
     ]
    }
   ],
   "source": [
    "score = cross_val_score(la,x,y)\n",
    "print(score)\n",
    "print(score.mean())\n",
    "print(\"Difference between R2 score and cross validation score is :\", (r2_score(y_test,pred_LA)-score.mean()*100))"
   ]
  },
  {
   "cell_type": "markdown",
   "id": "b39ff91d",
   "metadata": {},
   "source": [
    "We can see that our prediction is working well in Random forest regressor model and able to predict best data."
   ]
  },
  {
   "cell_type": "code",
   "execution_count": 217,
   "id": "88a5ccca",
   "metadata": {},
   "outputs": [],
   "source": [
    "#Lets test our data by grid search\n",
    "from sklearn.model_selection import GridSearchCV"
   ]
  },
  {
   "cell_type": "code",
   "execution_count": 218,
   "id": "ba7aeb59",
   "metadata": {},
   "outputs": [
    {
     "data": {
      "text/html": [
       "<style>#sk-container-id-2 {color: black;background-color: white;}#sk-container-id-2 pre{padding: 0;}#sk-container-id-2 div.sk-toggleable {background-color: white;}#sk-container-id-2 label.sk-toggleable__label {cursor: pointer;display: block;width: 100%;margin-bottom: 0;padding: 0.3em;box-sizing: border-box;text-align: center;}#sk-container-id-2 label.sk-toggleable__label-arrow:before {content: \"▸\";float: left;margin-right: 0.25em;color: #696969;}#sk-container-id-2 label.sk-toggleable__label-arrow:hover:before {color: black;}#sk-container-id-2 div.sk-estimator:hover label.sk-toggleable__label-arrow:before {color: black;}#sk-container-id-2 div.sk-toggleable__content {max-height: 0;max-width: 0;overflow: hidden;text-align: left;background-color: #f0f8ff;}#sk-container-id-2 div.sk-toggleable__content pre {margin: 0.2em;color: black;border-radius: 0.25em;background-color: #f0f8ff;}#sk-container-id-2 input.sk-toggleable__control:checked~div.sk-toggleable__content {max-height: 200px;max-width: 100%;overflow: auto;}#sk-container-id-2 input.sk-toggleable__control:checked~label.sk-toggleable__label-arrow:before {content: \"▾\";}#sk-container-id-2 div.sk-estimator input.sk-toggleable__control:checked~label.sk-toggleable__label {background-color: #d4ebff;}#sk-container-id-2 div.sk-label input.sk-toggleable__control:checked~label.sk-toggleable__label {background-color: #d4ebff;}#sk-container-id-2 input.sk-hidden--visually {border: 0;clip: rect(1px 1px 1px 1px);clip: rect(1px, 1px, 1px, 1px);height: 1px;margin: -1px;overflow: hidden;padding: 0;position: absolute;width: 1px;}#sk-container-id-2 div.sk-estimator {font-family: monospace;background-color: #f0f8ff;border: 1px dotted black;border-radius: 0.25em;box-sizing: border-box;margin-bottom: 0.5em;}#sk-container-id-2 div.sk-estimator:hover {background-color: #d4ebff;}#sk-container-id-2 div.sk-parallel-item::after {content: \"\";width: 100%;border-bottom: 1px solid gray;flex-grow: 1;}#sk-container-id-2 div.sk-label:hover label.sk-toggleable__label {background-color: #d4ebff;}#sk-container-id-2 div.sk-serial::before {content: \"\";position: absolute;border-left: 1px solid gray;box-sizing: border-box;top: 0;bottom: 0;left: 50%;z-index: 0;}#sk-container-id-2 div.sk-serial {display: flex;flex-direction: column;align-items: center;background-color: white;padding-right: 0.2em;padding-left: 0.2em;position: relative;}#sk-container-id-2 div.sk-item {position: relative;z-index: 1;}#sk-container-id-2 div.sk-parallel {display: flex;align-items: stretch;justify-content: center;background-color: white;position: relative;}#sk-container-id-2 div.sk-item::before, #sk-container-id-2 div.sk-parallel-item::before {content: \"\";position: absolute;border-left: 1px solid gray;box-sizing: border-box;top: 0;bottom: 0;left: 50%;z-index: -1;}#sk-container-id-2 div.sk-parallel-item {display: flex;flex-direction: column;z-index: 1;position: relative;background-color: white;}#sk-container-id-2 div.sk-parallel-item:first-child::after {align-self: flex-end;width: 50%;}#sk-container-id-2 div.sk-parallel-item:last-child::after {align-self: flex-start;width: 50%;}#sk-container-id-2 div.sk-parallel-item:only-child::after {width: 0;}#sk-container-id-2 div.sk-dashed-wrapped {border: 1px dashed gray;margin: 0 0.4em 0.5em 0.4em;box-sizing: border-box;padding-bottom: 0.4em;background-color: white;}#sk-container-id-2 div.sk-label label {font-family: monospace;font-weight: bold;display: inline-block;line-height: 1.2em;}#sk-container-id-2 div.sk-label-container {text-align: center;}#sk-container-id-2 div.sk-container {/* jupyter's `normalize.less` sets `[hidden] { display: none; }` but bootstrap.min.css set `[hidden] { display: none !important; }` so we also need the `!important` here to be able to override the default hidden behavior on the sphinx rendered scikit-learn.org. See: https://github.com/scikit-learn/scikit-learn/issues/21755 */display: inline-block !important;position: relative;}#sk-container-id-2 div.sk-text-repr-fallback {display: none;}</style><div id=\"sk-container-id-2\" class=\"sk-top-container\"><div class=\"sk-text-repr-fallback\"><pre>GridSearchCV(cv=5, estimator=RandomForestRegressor(),\n",
       "             param_grid={&#x27;max_depth&#x27;: [5, 10, 15],\n",
       "                         &#x27;max_features&#x27;: [&#x27;auto&#x27;, &#x27;sqrt&#x27;],\n",
       "                         &#x27;n_estimators&#x27;: [100, 200, 300]})</pre><b>In a Jupyter environment, please rerun this cell to show the HTML representation or trust the notebook. <br />On GitHub, the HTML representation is unable to render, please try loading this page with nbviewer.org.</b></div><div class=\"sk-container\" hidden><div class=\"sk-item sk-dashed-wrapped\"><div class=\"sk-label-container\"><div class=\"sk-label sk-toggleable\"><input class=\"sk-toggleable__control sk-hidden--visually\" id=\"sk-estimator-id-4\" type=\"checkbox\" ><label for=\"sk-estimator-id-4\" class=\"sk-toggleable__label sk-toggleable__label-arrow\">GridSearchCV</label><div class=\"sk-toggleable__content\"><pre>GridSearchCV(cv=5, estimator=RandomForestRegressor(),\n",
       "             param_grid={&#x27;max_depth&#x27;: [5, 10, 15],\n",
       "                         &#x27;max_features&#x27;: [&#x27;auto&#x27;, &#x27;sqrt&#x27;],\n",
       "                         &#x27;n_estimators&#x27;: [100, 200, 300]})</pre></div></div></div><div class=\"sk-parallel\"><div class=\"sk-parallel-item\"><div class=\"sk-item\"><div class=\"sk-label-container\"><div class=\"sk-label sk-toggleable\"><input class=\"sk-toggleable__control sk-hidden--visually\" id=\"sk-estimator-id-5\" type=\"checkbox\" ><label for=\"sk-estimator-id-5\" class=\"sk-toggleable__label sk-toggleable__label-arrow\">estimator: RandomForestRegressor</label><div class=\"sk-toggleable__content\"><pre>RandomForestRegressor()</pre></div></div></div><div class=\"sk-serial\"><div class=\"sk-item\"><div class=\"sk-estimator sk-toggleable\"><input class=\"sk-toggleable__control sk-hidden--visually\" id=\"sk-estimator-id-6\" type=\"checkbox\" ><label for=\"sk-estimator-id-6\" class=\"sk-toggleable__label sk-toggleable__label-arrow\">RandomForestRegressor</label><div class=\"sk-toggleable__content\"><pre>RandomForestRegressor()</pre></div></div></div></div></div></div></div></div></div></div>"
      ],
      "text/plain": [
       "GridSearchCV(cv=5, estimator=RandomForestRegressor(),\n",
       "             param_grid={'max_depth': [5, 10, 15],\n",
       "                         'max_features': ['auto', 'sqrt'],\n",
       "                         'n_estimators': [100, 200, 300]})"
      ]
     },
     "execution_count": 218,
     "metadata": {},
     "output_type": "execute_result"
    }
   ],
   "source": [
    "param={'n_estimators': [100, 200, 300],\n",
    "    'max_depth': [5, 10, 15],\n",
    "    'max_features': ['auto', 'sqrt']}\n",
    "gscv=GridSearchCV(RandomForestRegressor(),param,cv=5)\n",
    "gscv.fit(x_train,y_train)"
   ]
  },
  {
   "cell_type": "code",
   "execution_count": 219,
   "id": "c4636be6",
   "metadata": {},
   "outputs": [
    {
     "data": {
      "text/plain": [
       "{'max_depth': 5, 'max_features': 'sqrt', 'n_estimators': 200}"
      ]
     },
     "execution_count": 219,
     "metadata": {},
     "output_type": "execute_result"
    }
   ],
   "source": [
    "gscv.best_params_"
   ]
  },
  {
   "cell_type": "code",
   "execution_count": 220,
   "id": "953a2742",
   "metadata": {},
   "outputs": [],
   "source": [
    "Model=RandomForestRegressor(max_depth= 5, max_features= 'sqrt', n_estimators=  200)"
   ]
  },
  {
   "cell_type": "code",
   "execution_count": 221,
   "id": "200e0d4d",
   "metadata": {},
   "outputs": [
    {
     "name": "stdout",
     "output_type": "stream",
     "text": [
      "R2 score: 0.022322265205764524\n",
      "Mean Absolute Error: 18.938677922570115\n",
      "Mean Squared Error: 569.5374420668811\n",
      "Root Mean Squared Error: 23.864983596618732\n"
     ]
    }
   ],
   "source": [
    "Model.fit(x_train,y_train)\n",
    "pred=Model.predict (x_test)\n",
    "print ('R2 score:',r2_score(y_test,pred))\n",
    "print('Mean Absolute Error:',mean_absolute_error(y_test, pred))\n",
    "print('Mean Squared Error:',mean_squared_error(y_test, pred))\n",
    "print (\"Root Mean Squared Error:\",np.sqrt(mean_squared_error(y_test, pred)))"
   ]
  },
  {
   "cell_type": "markdown",
   "id": "9109f8ff",
   "metadata": {},
   "source": [
    "Now let's save our model by pickle method"
   ]
  },
  {
   "cell_type": "code",
   "execution_count": 223,
   "id": "93e041b3",
   "metadata": {},
   "outputs": [],
   "source": [
    "import pickle\n",
    "filename='price_Shoe.pkl'\n",
    "pickle.dump(Model,open(filename,'wb'))"
   ]
  },
  {
   "cell_type": "code",
   "execution_count": null,
   "id": "f96e419d",
   "metadata": {},
   "outputs": [],
   "source": []
  },
  {
   "cell_type": "markdown",
   "id": "27ccb901",
   "metadata": {},
   "source": [
    "# Thank you"
   ]
  }
 ],
 "metadata": {
  "kernelspec": {
   "display_name": "Python 3 (ipykernel)",
   "language": "python",
   "name": "python3"
  },
  "language_info": {
   "codemirror_mode": {
    "name": "ipython",
    "version": 3
   },
   "file_extension": ".py",
   "mimetype": "text/x-python",
   "name": "python",
   "nbconvert_exporter": "python",
   "pygments_lexer": "ipython3",
   "version": "3.11.3"
  }
 },
 "nbformat": 4,
 "nbformat_minor": 5
}
